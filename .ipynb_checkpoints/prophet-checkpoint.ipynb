{
 "cells": [
  {
   "cell_type": "code",
   "execution_count": 24,
   "id": "918bf49c-c24e-477d-8e6e-a87c387af682",
   "metadata": {},
   "outputs": [],
   "source": [
    "import pandas as pd\n",
    "import numpy as np\n",
    "from prophet import Prophet\n",
    "\n",
    "df = pd.read_csv('meteo_data_30.csv')\n",
    "df = df[['Date', 'HC_AIR_TEMPERATURE']]\n",
    "df = df.rename(columns={'Date': 'ds', 'HC_AIR_TEMPERATURE': 'y'})"
   ]
  },
  {
   "cell_type": "code",
   "execution_count": 27,
   "id": "44c63de2-c176-46c9-bcd9-f756f4bd1769",
   "metadata": {},
   "outputs": [
    {
     "name": "stderr",
     "output_type": "stream",
     "text": [
      "20:38:50 - cmdstanpy - INFO - Chain [1] start processing\n",
      "20:38:51 - cmdstanpy - INFO - Chain [1] done processing\n"
     ]
    },
    {
     "name": "stdout",
     "output_type": "stream",
     "text": [
      "                      ds       yhat\n",
      "4347 2023-12-17 22:00:00   3.023926\n",
      "4348 2023-12-17 23:00:00   2.499646\n",
      "4349 2023-12-18 00:00:00   2.026541\n",
      "4350 2023-12-18 01:00:00   1.555536\n",
      "4351 2023-12-18 02:00:00   1.082617\n",
      "...                  ...        ...\n",
      "5782 2024-03-11 15:00:00  10.336969\n",
      "5783 2024-03-12 15:00:00   9.450119\n",
      "5784 2024-03-13 15:00:00   9.468309\n",
      "5785 2024-03-14 15:00:00  10.361860\n",
      "5786 2024-03-15 15:00:00  11.172977\n",
      "\n",
      "[1440 rows x 2 columns]\n"
     ]
    }
   ],
   "source": [
    "train_size = int(len(df) * 0.8)  # 80% данных для тренировки\n",
    "train_df = df[:train_size]\n",
    "test_df = df[train_size:]\n",
    "\n",
    "# Инициализация модели Prophet\n",
    "model = Prophet()\n",
    "\n",
    "# Обучение модели на тренировочном наборе\n",
    "model.fit(train_df)\n",
    "\n",
    "# Создание DataFrame для предсказаний на тестовом наборе\n",
    "future = model.make_future_dataframe(periods=30)  # Создание DataFrame для всех дат из тестового набора\n",
    "forecast = model.predict(future)\n",
    "\n",
    "# Выводим прогнозы для тестового набора\n",
    "print(forecast[['ds', 'yhat']].tail(len(test_df)))"
   ]
  },
  {
   "cell_type": "code",
   "execution_count": 28,
   "id": "dcc9422a-d75d-41cc-abe8-f980a4b7347a",
   "metadata": {},
   "outputs": [
    {
     "name": "stdout",
     "output_type": "stream",
     "text": [
      "Точность на тренировочном наборе:\n",
      "MAE: 3.596226999641637\n",
      "RMSE: 4.602748436379759\n",
      "\n",
      "Точность на тестовом наборе:\n",
      "MAE: 4.21504308589074\n",
      "RMSE: 5.385722904340266\n"
     ]
    }
   ],
   "source": [
    "from sklearn.metrics import mean_absolute_error, mean_squared_error\n",
    "import numpy as np\n",
    "\n",
    "# Вычисляем прогнозы на тренировочном наборе\n",
    "train_forecast = model.predict(train_df)\n",
    "\n",
    "# Вычисляем прогнозы на тестовом наборе\n",
    "test_forecast = model.predict(test_df)\n",
    "\n",
    "# Вычисляем метрики точности для тренировочного набора\n",
    "train_mae = mean_absolute_error(train_df['y'], train_forecast['yhat'])\n",
    "train_rmse = np.sqrt(mean_squared_error(train_df['y'], train_forecast['yhat']))\n",
    "\n",
    "# Вычисляем метрики точности для тестового набора\n",
    "test_mae = mean_absolute_error(test_df['y'], test_forecast['yhat'])\n",
    "test_rmse = np.sqrt(mean_squared_error(test_df['y'], test_forecast['yhat']))\n",
    "\n",
    "# Выводим результаты\n",
    "print(\"Точность на тренировочном наборе:\")\n",
    "print(\"MAE:\", train_mae)\n",
    "print(\"RMSE:\", train_rmse)\n",
    "\n",
    "print(\"\\nТочность на тестовом наборе:\")\n",
    "print(\"MAE:\", test_mae)\n",
    "print(\"RMSE:\", test_rmse)"
   ]
  },
  {
   "cell_type": "code",
   "execution_count": null,
   "id": "9396bd80-486c-41a4-bb55-0a4164484182",
   "metadata": {},
   "outputs": [],
   "source": []
  }
 ],
 "metadata": {
  "kernelspec": {
   "display_name": "Python 3 (ipykernel)",
   "language": "python",
   "name": "python3"
  },
  "language_info": {
   "codemirror_mode": {
    "name": "ipython",
    "version": 3
   },
   "file_extension": ".py",
   "mimetype": "text/x-python",
   "name": "python",
   "nbconvert_exporter": "python",
   "pygments_lexer": "ipython3",
   "version": "3.10.11"
  }
 },
 "nbformat": 4,
 "nbformat_minor": 5
}
