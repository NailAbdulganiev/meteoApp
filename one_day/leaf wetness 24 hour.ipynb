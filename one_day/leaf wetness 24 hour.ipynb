{
 "cells": [
  {
   "cell_type": "code",
   "execution_count": 1,
   "id": "3e6f8106-94de-47fb-bf3c-a43d0014c967",
   "metadata": {},
   "outputs": [
    {
     "data": {
      "image/png": "[encoded data removed]",
      "text/plain": [
       "<Figure size 1000x600 with 1 Axes>"
      ]
     },
     "metadata": {},
     "output_type": "display_data"
    }
   ],
   "source": [
    "import tensorflow as tf\n",
    "import numpy as np\n",
    "import pandas as pd\n",
    "import matplotlib.pyplot as plt\n",
    "import os\n",
    "from sklearn.metrics import mean_absolute_error, mean_squared_error, r2_score\n",
    "from tensorflow.keras.models import Sequential\n",
    "from tensorflow.keras.layers import *\n",
    "from tensorflow.keras.callbacks import ModelCheckpoint, EarlyStopping\n",
    "from tensorflow.keras.losses import MeanSquaredError\n",
    "from tensorflow.keras.metrics import RootMeanSquaredError\n",
    "from tensorflow.keras.optimizers import Adam\n",
    "\n",
    "df = pd.read_csv(\"../meteo_data.csv\")\n",
    "df.index = pd.to_datetime(df.DATE)\n",
    "del df['DATE']\n",
    "\n",
    "required_cols = ['LEAF_WETNESS']\n",
    "df = df[required_cols]\n",
    "\n",
    "temp = df['LEAF_WETNESS']\n",
    "\n",
    "plt.figure(figsize=(10, 6))\n",
    "plt.plot(df['LEAF_WETNESS'], label='Влажность листа', color='blue')\n",
    "\n",
    "# Настройка графика\n",
    "plt.ylabel('Значение')\n",
    "plt.legend()\n",
    "\n",
    "# Показать график\n",
    "plt.show()"
   ]
  },
  {
   "cell_type": "code",
   "execution_count": 2,
   "id": "e5c5385e-e555-46f1-a452-37fca7e7ec6b",
   "metadata": {},
   "outputs": [
    {
     "data": {
      "text/plain": [
       "((39408, 5, 1), (39408,), (6568, 5, 1), (6568,), (6564, 5, 1), (6564,))"
      ]
     },
     "execution_count": 2,
     "metadata": {},
     "output_type": "execute_result"
    }
   ],
   "source": [
    "# предсказание, основанное не предыдущем суточном дне\n",
    "def df_to_X_y(df, window_size=5):\n",
    "    df_as_np = df.to_numpy()\n",
    "    X = []\n",
    "    y = []\n",
    "    for i in range(len(df_as_np) - window_size):\n",
    "        row = [[a] for a in df_as_np[i:i + window_size]]\n",
    "        X.append(row)\n",
    "        label = df_as_np[i + window_size]\n",
    "        y.append(label)\n",
    "    return np.array(X), np.array(y)\n",
    "\n",
    "WINDOW_SIZE = 5\n",
    "X1, y1 = df_to_X_y(temp, WINDOW_SIZE)\n",
    "\n",
    "# Размеры выборок\n",
    "n = len(df)\n",
    "train_size = int(n * 0.75)\n",
    "val_size = int(n * 0.125)\n",
    "test_size = n - train_size - val_size\n",
    "\n",
    "X_train1, y_train1 = X1[:train_size], y1[:train_size]\n",
    "X_val1, y_val1 = X1[train_size:train_size + val_size], y1[train_size:train_size + val_size]\n",
    "X_test1, y_test1 = X1[train_size + val_size:], y1[train_size + val_size:]\n",
    "X_train1.shape, y_train1.shape, X_val1.shape, y_val1.shape, X_test1.shape, y_test1.shape"
   ]
  },
  {
   "cell_type": "code",
   "execution_count": 3,
   "id": "93e5d8ab-ce29-4536-9e72-bd9d7aa078ba",
   "metadata": {},
   "outputs": [
    {
     "data": {
      "text/html": [
       "<pre style=\"white-space:pre;overflow-x:auto;line-height:normal;font-family:Menlo,'DejaVu Sans Mono',consolas,'Courier New',monospace\"><span style=\"font-weight: bold\">Model: \"sequential\"</span>\n",
       "</pre>\n"
      ],
      "text/plain": [
       "\u001b[1mModel: \"sequential\"\u001b[0m\n"
      ]
     },
     "metadata": {},
     "output_type": "display_data"
    },
    {
     "data": {
      "text/html": [
       "<pre style=\"white-space:pre;overflow-x:auto;line-height:normal;font-family:Menlo,'DejaVu Sans Mono',consolas,'Courier New',monospace\">┏━━━━━━━━━━━━━━━━━━━━━━━━━━━━━━━━━━━━━━┳━━━━━━━━━━━━━━━━━━━━━━━━━━━━━┳━━━━━━━━━━━━━━━━━┓\n",
       "┃<span style=\"font-weight: bold\"> Layer (type)                         </span>┃<span style=\"font-weight: bold\"> Output Shape                </span>┃<span style=\"font-weight: bold\">         Param # </span>┃\n",
       "┡━━━━━━━━━━━━━━━━━━━━━━━━━━━━━━━━━━━━━━╇━━━━━━━━━━━━━━━━━━━━━━━━━━━━━╇━━━━━━━━━━━━━━━━━┩\n",
       "│ lstm (<span style=\"color: #0087ff; text-decoration-color: #0087ff\">LSTM</span>)                          │ (<span style=\"color: #00d7ff; text-decoration-color: #00d7ff\">None</span>, <span style=\"color: #00af00; text-decoration-color: #00af00\">5</span>, <span style=\"color: #00af00; text-decoration-color: #00af00\">64</span>)               │          <span style=\"color: #00af00; text-decoration-color: #00af00\">16,896</span> │\n",
       "├──────────────────────────────────────┼─────────────────────────────┼─────────────────┤\n",
       "│ dropout (<span style=\"color: #0087ff; text-decoration-color: #0087ff\">Dropout</span>)                    │ (<span style=\"color: #00d7ff; text-decoration-color: #00d7ff\">None</span>, <span style=\"color: #00af00; text-decoration-color: #00af00\">5</span>, <span style=\"color: #00af00; text-decoration-color: #00af00\">64</span>)               │               <span style=\"color: #00af00; text-decoration-color: #00af00\">0</span> │\n",
       "├──────────────────────────────────────┼─────────────────────────────┼─────────────────┤\n",
       "│ lstm_1 (<span style=\"color: #0087ff; text-decoration-color: #0087ff\">LSTM</span>)                        │ (<span style=\"color: #00d7ff; text-decoration-color: #00d7ff\">None</span>, <span style=\"color: #00af00; text-decoration-color: #00af00\">32</span>)                  │          <span style=\"color: #00af00; text-decoration-color: #00af00\">12,416</span> │\n",
       "├──────────────────────────────────────┼─────────────────────────────┼─────────────────┤\n",
       "│ dropout_1 (<span style=\"color: #0087ff; text-decoration-color: #0087ff\">Dropout</span>)                  │ (<span style=\"color: #00d7ff; text-decoration-color: #00d7ff\">None</span>, <span style=\"color: #00af00; text-decoration-color: #00af00\">32</span>)                  │               <span style=\"color: #00af00; text-decoration-color: #00af00\">0</span> │\n",
       "├──────────────────────────────────────┼─────────────────────────────┼─────────────────┤\n",
       "│ dense (<span style=\"color: #0087ff; text-decoration-color: #0087ff\">Dense</span>)                        │ (<span style=\"color: #00d7ff; text-decoration-color: #00d7ff\">None</span>, <span style=\"color: #00af00; text-decoration-color: #00af00\">8</span>)                   │             <span style=\"color: #00af00; text-decoration-color: #00af00\">264</span> │\n",
       "├──────────────────────────────────────┼─────────────────────────────┼─────────────────┤\n",
       "│ dense_1 (<span style=\"color: #0087ff; text-decoration-color: #0087ff\">Dense</span>)                      │ (<span style=\"color: #00d7ff; text-decoration-color: #00d7ff\">None</span>, <span style=\"color: #00af00; text-decoration-color: #00af00\">1</span>)                   │               <span style=\"color: #00af00; text-decoration-color: #00af00\">9</span> │\n",
       "└──────────────────────────────────────┴─────────────────────────────┴─────────────────┘\n",
       "</pre>\n"
      ],
      "text/plain": [
       "┏━━━━━━━━━━━━━━━━━━━━━━━━━━━━━━━━━━━━━━┳━━━━━━━━━━━━━━━━━━━━━━━━━━━━━┳━━━━━━━━━━━━━━━━━┓\n",
       "┃\u001b[1m \u001b[0m\u001b[1mLayer (type)                        \u001b[0m\u001b[1m \u001b[0m┃\u001b[1m \u001b[0m\u001b[1mOutput Shape               \u001b[0m\u001b[1m \u001b[0m┃\u001b[1m \u001b[0m\u001b[1m        Param #\u001b[0m\u001b[1m \u001b[0m┃\n",
       "┡━━━━━━━━━━━━━━━━━━━━━━━━━━━━━━━━━━━━━━╇━━━━━━━━━━━━━━━━━━━━━━━━━━━━━╇━━━━━━━━━━━━━━━━━┩\n",
       "│ lstm (\u001b[38;5;33mLSTM\u001b[0m)                          │ (\u001b[38;5;45mNone\u001b[0m, \u001b[38;5;34m5\u001b[0m, \u001b[38;5;34m64\u001b[0m)               │          \u001b[38;5;34m16,896\u001b[0m │\n",
       "├──────────────────────────────────────┼─────────────────────────────┼─────────────────┤\n",
       "│ dropout (\u001b[38;5;33mDropout\u001b[0m)                    │ (\u001b[38;5;45mNone\u001b[0m, \u001b[38;5;34m5\u001b[0m, \u001b[38;5;34m64\u001b[0m)               │               \u001b[38;5;34m0\u001b[0m │\n",
       "├──────────────────────────────────────┼─────────────────────────────┼─────────────────┤\n",
       "│ lstm_1 (\u001b[38;5;33mLSTM\u001b[0m)                        │ (\u001b[38;5;45mNone\u001b[0m, \u001b[38;5;34m32\u001b[0m)                  │          \u001b[38;5;34m12,416\u001b[0m │\n",
       "├──────────────────────────────────────┼─────────────────────────────┼─────────────────┤\n",
       "│ dropout_1 (\u001b[38;5;33mDropout\u001b[0m)                  │ (\u001b[38;5;45mNone\u001b[0m, \u001b[38;5;34m32\u001b[0m)                  │               \u001b[38;5;34m0\u001b[0m │\n",
       "├──────────────────────────────────────┼─────────────────────────────┼─────────────────┤\n",
       "│ dense (\u001b[38;5;33mDense\u001b[0m)                        │ (\u001b[38;5;45mNone\u001b[0m, \u001b[38;5;34m8\u001b[0m)                   │             \u001b[38;5;34m264\u001b[0m │\n",
       "├──────────────────────────────────────┼─────────────────────────────┼─────────────────┤\n",
       "│ dense_1 (\u001b[38;5;33mDense\u001b[0m)                      │ (\u001b[38;5;45mNone\u001b[0m, \u001b[38;5;34m1\u001b[0m)                   │               \u001b[38;5;34m9\u001b[0m │\n",
       "└──────────────────────────────────────┴─────────────────────────────┴─────────────────┘\n"
      ]
     },
     "metadata": {},
     "output_type": "display_data"
    },
    {
     "data": {
      "text/html": [
       "<pre style=\"white-space:pre;overflow-x:auto;line-height:normal;font-family:Menlo,'DejaVu Sans Mono',consolas,'Courier New',monospace\"><span style=\"font-weight: bold\"> Total params: </span><span style=\"color: #00af00; text-decoration-color: #00af00\">29,585</span> (115.57 KB)\n",
       "</pre>\n"
      ],
      "text/plain": [
       "\u001b[1m Total params: \u001b[0m\u001b[38;5;34m29,585\u001b[0m (115.57 KB)\n"
      ]
     },
     "metadata": {},
     "output_type": "display_data"
    },
    {
     "data": {
      "text/html": [
       "<pre style=\"white-space:pre;overflow-x:auto;line-height:normal;font-family:Menlo,'DejaVu Sans Mono',consolas,'Courier New',monospace\"><span style=\"font-weight: bold\"> Trainable params: </span><span style=\"color: #00af00; text-decoration-color: #00af00\">29,585</span> (115.57 KB)\n",
       "</pre>\n"
      ],
      "text/plain": [
       "\u001b[1m Trainable params: \u001b[0m\u001b[38;5;34m29,585\u001b[0m (115.57 KB)\n"
      ]
     },
     "metadata": {},
     "output_type": "display_data"
    },
    {
     "data": {
      "text/html": [
       "<pre style=\"white-space:pre;overflow-x:auto;line-height:normal;font-family:Menlo,'DejaVu Sans Mono',consolas,'Courier New',monospace\"><span style=\"font-weight: bold\"> Non-trainable params: </span><span style=\"color: #00af00; text-decoration-color: #00af00\">0</span> (0.00 B)\n",
       "</pre>\n"
      ],
      "text/plain": [
       "\u001b[1m Non-trainable params: \u001b[0m\u001b[38;5;34m0\u001b[0m (0.00 B)\n"
      ]
     },
     "metadata": {},
     "output_type": "display_data"
    }
   ],
   "source": [
    "model2 = Sequential()\n",
    "model2.add(InputLayer((WINDOW_SIZE, 1)))\n",
    "model2.add(LSTM(64, return_sequences=True))\n",
    "model2.add(Dropout(0.5))\n",
    "model2.add(LSTM(32))\n",
    "model2.add(Dropout(0.5))\n",
    "model2.add(Dense(8, 'relu'))\n",
    "model2.add(Dense(1, 'relu'))\n",
    "model2.summary()"
   ]
  },
  {
   "cell_type": "code",
   "execution_count": 4,
   "id": "167902f4-ca1f-43c6-8ddc-6054f13d8b70",
   "metadata": {},
   "outputs": [],
   "source": [
    "# Настройки обратного вызова и компиляции модели\n",
    "model_save_path = 'model2/model2-LEAF_WETNESS.keras'\n",
    "cp2 = ModelCheckpoint(model_save_path, save_best_only=True)\n",
    "model2.compile(loss=MeanSquaredError(), optimizer=Adam(learning_rate=0.0001), metrics=[RootMeanSquaredError()])"
   ]
  },
  {
   "cell_type": "code",
   "execution_count": 5,
   "id": "7818eda9-6a96-497b-a936-8e5fc40d1e0b",
   "metadata": {},
   "outputs": [
    {
     "name": "stdout",
     "output_type": "stream",
     "text": [
      "Epoch 1/50\n",
      "\u001b[1m1232/1232\u001b[0m \u001b[32m━━━━━━━━━━━━━━━━━━━━\u001b[0m\u001b[37m\u001b[0m \u001b[1m20s\u001b[0m 10ms/step - loss: 365.3419 - root_mean_squared_error: 19.1015 - val_loss: 241.7786 - val_root_mean_squared_error: 15.5492\n",
      "Epoch 2/50\n",
      "\u001b[1m1232/1232\u001b[0m \u001b[32m━━━━━━━━━━━━━━━━━━━━\u001b[0m\u001b[37m\u001b[0m \u001b[1m12s\u001b[0m 9ms/step - loss: 232.8872 - root_mean_squared_error: 15.2512 - val_loss: 151.8919 - val_root_mean_squared_error: 12.3244\n",
      "Epoch 3/50\n",
      "\u001b[1m1232/1232\u001b[0m \u001b[32m━━━━━━━━━━━━━━━━━━━━\u001b[0m\u001b[37m\u001b[0m \u001b[1m12s\u001b[0m 10ms/step - loss: 146.2715 - root_mean_squared_error: 12.0862 - val_loss: 94.7789 - val_root_mean_squared_error: 9.7354\n",
      "Epoch 4/50\n",
      "\u001b[1m1232/1232\u001b[0m \u001b[32m━━━━━━━━━━━━━━━━━━━━\u001b[0m\u001b[37m\u001b[0m \u001b[1m11s\u001b[0m 9ms/step - loss: 89.8356 - root_mean_squared_error: 9.4732 - val_loss: 65.0669 - val_root_mean_squared_error: 8.0664\n",
      "Epoch 5/50\n",
      "\u001b[1m1232/1232\u001b[0m \u001b[32m━━━━━━━━━━━━━━━━━━━━\u001b[0m\u001b[37m\u001b[0m \u001b[1m12s\u001b[0m 10ms/step - loss: 65.3007 - root_mean_squared_error: 8.0735 - val_loss: 55.6195 - val_root_mean_squared_error: 7.4578\n",
      "Epoch 6/50\n",
      "\u001b[1m1232/1232\u001b[0m \u001b[32m━━━━━━━━━━━━━━━━━━━━\u001b[0m\u001b[37m\u001b[0m \u001b[1m12s\u001b[0m 9ms/step - loss: 52.9307 - root_mean_squared_error: 7.2700 - val_loss: 54.0021 - val_root_mean_squared_error: 7.3486\n",
      "Epoch 7/50\n",
      "\u001b[1m1232/1232\u001b[0m \u001b[32m━━━━━━━━━━━━━━━━━━━━\u001b[0m\u001b[37m\u001b[0m \u001b[1m12s\u001b[0m 10ms/step - loss: 55.7932 - root_mean_squared_error: 7.4657 - val_loss: 53.9846 - val_root_mean_squared_error: 7.3474\n",
      "Epoch 8/50\n",
      "\u001b[1m1232/1232\u001b[0m \u001b[32m━━━━━━━━━━━━━━━━━━━━\u001b[0m\u001b[37m\u001b[0m \u001b[1m20s\u001b[0m 9ms/step - loss: 53.9471 - root_mean_squared_error: 7.3428 - val_loss: 54.0033 - val_root_mean_squared_error: 7.3487\n",
      "Epoch 9/50\n",
      "\u001b[1m1232/1232\u001b[0m \u001b[32m━━━━━━━━━━━━━━━━━━━━\u001b[0m\u001b[37m\u001b[0m \u001b[1m13s\u001b[0m 10ms/step - loss: 53.8339 - root_mean_squared_error: 7.3347 - val_loss: 53.8687 - val_root_mean_squared_error: 7.3395\n",
      "Epoch 10/50\n",
      "\u001b[1m1232/1232\u001b[0m \u001b[32m━━━━━━━━━━━━━━━━━━━━\u001b[0m\u001b[37m\u001b[0m \u001b[1m12s\u001b[0m 10ms/step - loss: 51.8606 - root_mean_squared_error: 7.1989 - val_loss: 53.9026 - val_root_mean_squared_error: 7.3418\n",
      "Epoch 11/50\n",
      "\u001b[1m1232/1232\u001b[0m \u001b[32m━━━━━━━━━━━━━━━━━━━━\u001b[0m\u001b[37m\u001b[0m \u001b[1m12s\u001b[0m 10ms/step - loss: 49.5657 - root_mean_squared_error: 7.0316 - val_loss: 53.7617 - val_root_mean_squared_error: 7.3322\n",
      "Epoch 12/50\n",
      "\u001b[1m1232/1232\u001b[0m \u001b[32m━━━━━━━━━━━━━━━━━━━━\u001b[0m\u001b[37m\u001b[0m \u001b[1m11s\u001b[0m 9ms/step - loss: 54.1284 - root_mean_squared_error: 7.3543 - val_loss: 53.6720 - val_root_mean_squared_error: 7.3261\n",
      "Epoch 13/50\n",
      "\u001b[1m1232/1232\u001b[0m \u001b[32m━━━━━━━━━━━━━━━━━━━━\u001b[0m\u001b[37m\u001b[0m \u001b[1m25s\u001b[0m 12ms/step - loss: 53.7789 - root_mean_squared_error: 7.3318 - val_loss: 53.6035 - val_root_mean_squared_error: 7.3214\n",
      "Epoch 14/50\n",
      "\u001b[1m1232/1232\u001b[0m \u001b[32m━━━━━━━━━━━━━━━━━━━━\u001b[0m\u001b[37m\u001b[0m \u001b[1m14s\u001b[0m 11ms/step - loss: 50.6462 - root_mean_squared_error: 7.1050 - val_loss: 53.5793 - val_root_mean_squared_error: 7.3198\n",
      "Epoch 15/50\n",
      "\u001b[1m1232/1232\u001b[0m \u001b[32m━━━━━━━━━━━━━━━━━━━━\u001b[0m\u001b[37m\u001b[0m \u001b[1m14s\u001b[0m 11ms/step - loss: 50.4319 - root_mean_squared_error: 7.0899 - val_loss: 53.4432 - val_root_mean_squared_error: 7.3105\n",
      "Epoch 16/50\n",
      "\u001b[1m1232/1232\u001b[0m \u001b[32m━━━━━━━━━━━━━━━━━━━━\u001b[0m\u001b[37m\u001b[0m \u001b[1m14s\u001b[0m 11ms/step - loss: 50.4674 - root_mean_squared_error: 7.0995 - val_loss: 53.5469 - val_root_mean_squared_error: 7.3176\n",
      "Epoch 17/50\n",
      "\u001b[1m1232/1232\u001b[0m \u001b[32m━━━━━━━━━━━━━━━━━━━━\u001b[0m\u001b[37m\u001b[0m \u001b[1m14s\u001b[0m 12ms/step - loss: 51.5239 - root_mean_squared_error: 7.1699 - val_loss: 53.4403 - val_root_mean_squared_error: 7.3103\n",
      "Epoch 18/50\n",
      "\u001b[1m1232/1232\u001b[0m \u001b[32m━━━━━━━━━━━━━━━━━━━━\u001b[0m\u001b[37m\u001b[0m \u001b[1m14s\u001b[0m 12ms/step - loss: 50.6754 - root_mean_squared_error: 7.1107 - val_loss: 53.4949 - val_root_mean_squared_error: 7.3140\n",
      "Epoch 19/50\n",
      "\u001b[1m1232/1232\u001b[0m \u001b[32m━━━━━━━━━━━━━━━━━━━━\u001b[0m\u001b[37m\u001b[0m \u001b[1m14s\u001b[0m 11ms/step - loss: 51.9023 - root_mean_squared_error: 7.1983 - val_loss: 53.3731 - val_root_mean_squared_error: 7.3057\n",
      "Epoch 20/50\n",
      "\u001b[1m1232/1232\u001b[0m \u001b[32m━━━━━━━━━━━━━━━━━━━━\u001b[0m\u001b[37m\u001b[0m \u001b[1m14s\u001b[0m 11ms/step - loss: 53.1719 - root_mean_squared_error: 7.2868 - val_loss: 53.4760 - val_root_mean_squared_error: 7.3127\n",
      "Epoch 21/50\n",
      "\u001b[1m1232/1232\u001b[0m \u001b[32m━━━━━━━━━━━━━━━━━━━━\u001b[0m\u001b[37m\u001b[0m \u001b[1m14s\u001b[0m 12ms/step - loss: 50.1910 - root_mean_squared_error: 7.0808 - val_loss: 53.3476 - val_root_mean_squared_error: 7.3039\n",
      "Epoch 22/50\n",
      "\u001b[1m1232/1232\u001b[0m \u001b[32m━━━━━━━━━━━━━━━━━━━━\u001b[0m\u001b[37m\u001b[0m \u001b[1m20s\u001b[0m 11ms/step - loss: 53.0965 - root_mean_squared_error: 7.2852 - val_loss: 53.3180 - val_root_mean_squared_error: 7.3019\n",
      "Epoch 23/50\n",
      "\u001b[1m1232/1232\u001b[0m \u001b[32m━━━━━━━━━━━━━━━━━━━━\u001b[0m\u001b[37m\u001b[0m \u001b[1m13s\u001b[0m 11ms/step - loss: 52.9652 - root_mean_squared_error: 7.2759 - val_loss: 53.1856 - val_root_mean_squared_error: 7.2928\n",
      "Epoch 24/50\n",
      "\u001b[1m1232/1232\u001b[0m \u001b[32m━━━━━━━━━━━━━━━━━━━━\u001b[0m\u001b[37m\u001b[0m \u001b[1m15s\u001b[0m 12ms/step - loss: 50.6721 - root_mean_squared_error: 7.1120 - val_loss: 53.2613 - val_root_mean_squared_error: 7.2980\n",
      "Epoch 25/50\n",
      "\u001b[1m1232/1232\u001b[0m \u001b[32m━━━━━━━━━━━━━━━━━━━━\u001b[0m\u001b[37m\u001b[0m \u001b[1m15s\u001b[0m 12ms/step - loss: 50.3913 - root_mean_squared_error: 7.0926 - val_loss: 53.3235 - val_root_mean_squared_error: 7.3023\n",
      "Epoch 26/50\n",
      "\u001b[1m1232/1232\u001b[0m \u001b[32m━━━━━━━━━━━━━━━━━━━━\u001b[0m\u001b[37m\u001b[0m \u001b[1m16s\u001b[0m 13ms/step - loss: 52.0360 - root_mean_squared_error: 7.2113 - val_loss: 53.2990 - val_root_mean_squared_error: 7.3006\n",
      "Epoch 27/50\n",
      "\u001b[1m1232/1232\u001b[0m \u001b[32m━━━━━━━━━━━━━━━━━━━━\u001b[0m\u001b[37m\u001b[0m \u001b[1m13s\u001b[0m 10ms/step - loss: 51.6123 - root_mean_squared_error: 7.1787 - val_loss: 53.5398 - val_root_mean_squared_error: 7.3171\n",
      "Epoch 28/50\n",
      "\u001b[1m1232/1232\u001b[0m \u001b[32m━━━━━━━━━━━━━━━━━━━━\u001b[0m\u001b[37m\u001b[0m \u001b[1m12s\u001b[0m 10ms/step - loss: 53.9828 - root_mean_squared_error: 7.3408 - val_loss: 53.1455 - val_root_mean_squared_error: 7.2901\n",
      "Epoch 29/50\n",
      "\u001b[1m1232/1232\u001b[0m \u001b[32m━━━━━━━━━━━━━━━━━━━━\u001b[0m\u001b[37m\u001b[0m \u001b[1m12s\u001b[0m 10ms/step - loss: 53.1258 - root_mean_squared_error: 7.2873 - val_loss: 53.1000 - val_root_mean_squared_error: 7.2870\n",
      "Epoch 30/50\n",
      "\u001b[1m1232/1232\u001b[0m \u001b[32m━━━━━━━━━━━━━━━━━━━━\u001b[0m\u001b[37m\u001b[0m \u001b[1m15s\u001b[0m 12ms/step - loss: 50.5480 - root_mean_squared_error: 7.1008 - val_loss: 53.1748 - val_root_mean_squared_error: 7.2921\n",
      "Epoch 31/50\n",
      "\u001b[1m1232/1232\u001b[0m \u001b[32m━━━━━━━━━━━━━━━━━━━━\u001b[0m\u001b[37m\u001b[0m \u001b[1m14s\u001b[0m 11ms/step - loss: 54.0343 - root_mean_squared_error: 7.3466 - val_loss: 53.2321 - val_root_mean_squared_error: 7.2960\n",
      "Epoch 32/50\n",
      "\u001b[1m1232/1232\u001b[0m \u001b[32m━━━━━━━━━━━━━━━━━━━━\u001b[0m\u001b[37m\u001b[0m \u001b[1m15s\u001b[0m 12ms/step - loss: 52.0317 - root_mean_squared_error: 7.2062 - val_loss: 53.2578 - val_root_mean_squared_error: 7.2978\n",
      "Epoch 33/50\n",
      "\u001b[1m1232/1232\u001b[0m \u001b[32m━━━━━━━━━━━━━━━━━━━━\u001b[0m\u001b[37m\u001b[0m \u001b[1m14s\u001b[0m 11ms/step - loss: 51.2861 - root_mean_squared_error: 7.1591 - val_loss: 53.2540 - val_root_mean_squared_error: 7.2975\n",
      "Epoch 34/50\n",
      "\u001b[1m1232/1232\u001b[0m \u001b[32m━━━━━━━━━━━━━━━━━━━━\u001b[0m\u001b[37m\u001b[0m \u001b[1m15s\u001b[0m 12ms/step - loss: 53.0331 - root_mean_squared_error: 7.2800 - val_loss: 53.2459 - val_root_mean_squared_error: 7.2970\n",
      "Epoch 35/50\n",
      "\u001b[1m1232/1232\u001b[0m \u001b[32m━━━━━━━━━━━━━━━━━━━━\u001b[0m\u001b[37m\u001b[0m \u001b[1m15s\u001b[0m 12ms/step - loss: 50.3681 - root_mean_squared_error: 7.0938 - val_loss: 53.1611 - val_root_mean_squared_error: 7.2912\n",
      "Epoch 36/50\n",
      "\u001b[1m1232/1232\u001b[0m \u001b[32m━━━━━━━━━━━━━━━━━━━━\u001b[0m\u001b[37m\u001b[0m \u001b[1m20s\u001b[0m 12ms/step - loss: 51.2196 - root_mean_squared_error: 7.1536 - val_loss: 53.0664 - val_root_mean_squared_error: 7.2847\n",
      "Epoch 37/50\n",
      "\u001b[1m1232/1232\u001b[0m \u001b[32m━━━━━━━━━━━━━━━━━━━━\u001b[0m\u001b[37m\u001b[0m \u001b[1m14s\u001b[0m 11ms/step - loss: 49.8387 - root_mean_squared_error: 7.0576 - val_loss: 53.0356 - val_root_mean_squared_error: 7.2826\n",
      "Epoch 38/50\n",
      "\u001b[1m1232/1232\u001b[0m \u001b[32m━━━━━━━━━━━━━━━━━━━━\u001b[0m\u001b[37m\u001b[0m \u001b[1m15s\u001b[0m 12ms/step - loss: 49.0428 - root_mean_squared_error: 7.0002 - val_loss: 52.9511 - val_root_mean_squared_error: 7.2768\n",
      "Epoch 39/50\n",
      "\u001b[1m1232/1232\u001b[0m \u001b[32m━━━━━━━━━━━━━━━━━━━━\u001b[0m\u001b[37m\u001b[0m \u001b[1m14s\u001b[0m 12ms/step - loss: 53.7223 - root_mean_squared_error: 7.3273 - val_loss: 52.9152 - val_root_mean_squared_error: 7.2743\n",
      "Epoch 40/50\n",
      "\u001b[1m1232/1232\u001b[0m \u001b[32m━━━━━━━━━━━━━━━━━━━━\u001b[0m\u001b[37m\u001b[0m \u001b[1m13s\u001b[0m 10ms/step - loss: 49.1376 - root_mean_squared_error: 7.0062 - val_loss: 52.8980 - val_root_mean_squared_error: 7.2731\n",
      "Epoch 41/50\n",
      "\u001b[1m1232/1232\u001b[0m \u001b[32m━━━━━━━━━━━━━━━━━━━━\u001b[0m\u001b[37m\u001b[0m \u001b[1m16s\u001b[0m 13ms/step - loss: 54.9722 - root_mean_squared_error: 7.4103 - val_loss: 52.8944 - val_root_mean_squared_error: 7.2729\n",
      "Epoch 42/50\n",
      "\u001b[1m1232/1232\u001b[0m \u001b[32m━━━━━━━━━━━━━━━━━━━━\u001b[0m\u001b[37m\u001b[0m \u001b[1m16s\u001b[0m 13ms/step - loss: 49.5942 - root_mean_squared_error: 7.0350 - val_loss: 52.8861 - val_root_mean_squared_error: 7.2723\n",
      "Epoch 43/50\n",
      "\u001b[1m1232/1232\u001b[0m \u001b[32m━━━━━━━━━━━━━━━━━━━━\u001b[0m\u001b[37m\u001b[0m \u001b[1m16s\u001b[0m 13ms/step - loss: 50.9991 - root_mean_squared_error: 7.1402 - val_loss: 52.8945 - val_root_mean_squared_error: 7.2729\n",
      "Epoch 44/50\n",
      "\u001b[1m1232/1232\u001b[0m \u001b[32m━━━━━━━━━━━━━━━━━━━━\u001b[0m\u001b[37m\u001b[0m \u001b[1m20s\u001b[0m 12ms/step - loss: 51.7202 - root_mean_squared_error: 7.1877 - val_loss: 52.9216 - val_root_mean_squared_error: 7.2747\n",
      "Epoch 45/50\n",
      "\u001b[1m1232/1232\u001b[0m \u001b[32m━━━━━━━━━━━━━━━━━━━━\u001b[0m\u001b[37m\u001b[0m \u001b[1m15s\u001b[0m 12ms/step - loss: 53.6559 - root_mean_squared_error: 7.3219 - val_loss: 52.7862 - val_root_mean_squared_error: 7.2654\n",
      "Epoch 46/50\n",
      "\u001b[1m1232/1232\u001b[0m \u001b[32m━━━━━━━━━━━━━━━━━━━━\u001b[0m\u001b[37m\u001b[0m \u001b[1m17s\u001b[0m 14ms/step - loss: 50.6757 - root_mean_squared_error: 7.1157 - val_loss: 52.7877 - val_root_mean_squared_error: 7.2655\n",
      "Epoch 47/50\n",
      "\u001b[1m1232/1232\u001b[0m \u001b[32m━━━━━━━━━━━━━━━━━━━━\u001b[0m\u001b[37m\u001b[0m \u001b[1m17s\u001b[0m 14ms/step - loss: 50.6221 - root_mean_squared_error: 7.1138 - val_loss: 52.7899 - val_root_mean_squared_error: 7.2657\n",
      "Epoch 48/50\n",
      "\u001b[1m1232/1232\u001b[0m \u001b[32m━━━━━━━━━━━━━━━━━━━━\u001b[0m\u001b[37m\u001b[0m \u001b[1m14s\u001b[0m 11ms/step - loss: 51.7982 - root_mean_squared_error: 7.1960 - val_loss: 52.9455 - val_root_mean_squared_error: 7.2764\n",
      "Epoch 49/50\n",
      "\u001b[1m1232/1232\u001b[0m \u001b[32m━━━━━━━━━━━━━━━━━━━━\u001b[0m\u001b[37m\u001b[0m \u001b[1m15s\u001b[0m 12ms/step - loss: 55.4822 - root_mean_squared_error: 7.4366 - val_loss: 52.9550 - val_root_mean_squared_error: 7.2770\n",
      "Epoch 50/50\n",
      "\u001b[1m1232/1232\u001b[0m \u001b[32m━━━━━━━━━━━━━━━━━━━━\u001b[0m\u001b[37m\u001b[0m \u001b[1m15s\u001b[0m 12ms/step - loss: 50.6842 - root_mean_squared_error: 7.1175 - val_loss: 52.9030 - val_root_mean_squared_error: 7.2734\n"
     ]
    },
    {
     "data": {
      "text/plain": [
       "<keras.src.callbacks.history.History at 0x261329d7280>"
      ]
     },
     "execution_count": 5,
     "metadata": {},
     "output_type": "execute_result"
    }
   ],
   "source": [
    "# Обучение модели\n",
    "model2.fit(X_train1, y_train1, validation_data=(X_val1, y_val1), epochs=50, callbacks=[cp2])"
   ]
  },
  {
   "cell_type": "code",
   "execution_count": 6,
   "id": "6c229694-2e6c-455e-8aef-11bdc5940f74",
   "metadata": {},
   "outputs": [
    {
     "name": "stdout",
     "output_type": "stream",
     "text": [
      "Модель сохранена в model2/model2-LEAF_WETNESS.keras\n"
     ]
    }
   ],
   "source": [
    "# Сохранение всей модели на диск\n",
    "model_save_path = 'model2/model2-LEAF_WETNESS.keras'\n",
    "model2.save(model_save_path)\n",
    "print(f\"Модель сохранена в {model_save_path}\")"
   ]
  },
  {
   "cell_type": "code",
   "execution_count": 7,
   "id": "a5e652fb-0d74-4f0a-9c14-ed2dca3e942b",
   "metadata": {},
   "outputs": [],
   "source": [
    "from keras.models import load_model\n",
    "model = load_model('model2/model2-LEAF_WETNESS.keras')"
   ]
  },
  {
   "cell_type": "code",
   "execution_count": 8,
   "id": "186fea76-ec27-4fd1-91fd-003d99b57853",
   "metadata": {},
   "outputs": [
    {
     "name": "stdout",
     "output_type": "stream",
     "text": [
      "\u001b[1m206/206\u001b[0m \u001b[32m━━━━━━━━━━━━━━━━━━━━\u001b[0m\u001b[37m\u001b[0m \u001b[1m4s\u001b[0m 12ms/step\n",
      "[[0.42997724]\n",
      " [0.42997724]\n",
      " [0.42997724]\n",
      " ...\n",
      " [0.42997724]\n",
      " [0.42997724]\n",
      " [0.42997724]]\n"
     ]
    }
   ],
   "source": [
    "# Прогнозирование на тестовых данных\n",
    "y_pred = model.predict(X_test1)\n",
    "\n",
    "# Вывод предсказаний\n",
    "print(y_pred)"
   ]
  },
  {
   "cell_type": "code",
   "execution_count": 9,
   "id": "67a66ea7-b6cf-447d-ba8a-89a02940e940",
   "metadata": {},
   "outputs": [
    {
     "name": "stdout",
     "output_type": "stream",
     "text": [
      "\u001b[1m1/1\u001b[0m \u001b[32m━━━━━━━━━━━━━━━━━━━━\u001b[0m\u001b[37m\u001b[0m \u001b[1m0s\u001b[0m 73ms/step\n",
      "\u001b[1m1/1\u001b[0m \u001b[32m━━━━━━━━━━━━━━━━━━━━\u001b[0m\u001b[37m\u001b[0m \u001b[1m0s\u001b[0m 102ms/step\n",
      "\u001b[1m1/1\u001b[0m \u001b[32m━━━━━━━━━━━━━━━━━━━━\u001b[0m\u001b[37m\u001b[0m \u001b[1m0s\u001b[0m 171ms/step\n",
      "\u001b[1m1/1\u001b[0m \u001b[32m━━━━━━━━━━━━━━━━━━━━\u001b[0m\u001b[37m\u001b[0m \u001b[1m0s\u001b[0m 133ms/step\n",
      "\u001b[1m1/1\u001b[0m \u001b[32m━━━━━━━━━━━━━━━━━━━━\u001b[0m\u001b[37m\u001b[0m \u001b[1m0s\u001b[0m 77ms/step\n",
      "\u001b[1m1/1\u001b[0m \u001b[32m━━━━━━━━━━━━━━━━━━━━\u001b[0m\u001b[37m\u001b[0m \u001b[1m0s\u001b[0m 74ms/step\n",
      "\u001b[1m1/1\u001b[0m \u001b[32m━━━━━━━━━━━━━━━━━━━━\u001b[0m\u001b[37m\u001b[0m \u001b[1m0s\u001b[0m 88ms/step\n",
      "\u001b[1m1/1\u001b[0m \u001b[32m━━━━━━━━━━━━━━━━━━━━\u001b[0m\u001b[37m\u001b[0m \u001b[1m0s\u001b[0m 85ms/step\n",
      "\u001b[1m1/1\u001b[0m \u001b[32m━━━━━━━━━━━━━━━━━━━━\u001b[0m\u001b[37m\u001b[0m \u001b[1m0s\u001b[0m 71ms/step\n",
      "\u001b[1m1/1\u001b[0m \u001b[32m━━━━━━━━━━━━━━━━━━━━\u001b[0m\u001b[37m\u001b[0m \u001b[1m0s\u001b[0m 83ms/step\n",
      "\u001b[1m1/1\u001b[0m \u001b[32m━━━━━━━━━━━━━━━━━━━━\u001b[0m\u001b[37m\u001b[0m \u001b[1m0s\u001b[0m 71ms/step\n",
      "\u001b[1m1/1\u001b[0m \u001b[32m━━━━━━━━━━━━━━━━━━━━\u001b[0m\u001b[37m\u001b[0m \u001b[1m0s\u001b[0m 67ms/step\n",
      "\u001b[1m1/1\u001b[0m \u001b[32m━━━━━━━━━━━━━━━━━━━━\u001b[0m\u001b[37m\u001b[0m \u001b[1m0s\u001b[0m 67ms/step\n",
      "\u001b[1m1/1\u001b[0m \u001b[32m━━━━━━━━━━━━━━━━━━━━\u001b[0m\u001b[37m\u001b[0m \u001b[1m0s\u001b[0m 91ms/step\n",
      "\u001b[1m1/1\u001b[0m \u001b[32m━━━━━━━━━━━━━━━━━━━━\u001b[0m\u001b[37m\u001b[0m \u001b[1m0s\u001b[0m 94ms/step\n",
      "\u001b[1m1/1\u001b[0m \u001b[32m━━━━━━━━━━━━━━━━━━━━\u001b[0m\u001b[37m\u001b[0m \u001b[1m0s\u001b[0m 122ms/step\n",
      "\u001b[1m1/1\u001b[0m \u001b[32m━━━━━━━━━━━━━━━━━━━━\u001b[0m\u001b[37m\u001b[0m \u001b[1m0s\u001b[0m 94ms/step\n",
      "\u001b[1m1/1\u001b[0m \u001b[32m━━━━━━━━━━━━━━━━━━━━\u001b[0m\u001b[37m\u001b[0m \u001b[1m0s\u001b[0m 90ms/step\n",
      "\u001b[1m1/1\u001b[0m \u001b[32m━━━━━━━━━━━━━━━━━━━━\u001b[0m\u001b[37m\u001b[0m \u001b[1m0s\u001b[0m 91ms/step\n",
      "\u001b[1m1/1\u001b[0m \u001b[32m━━━━━━━━━━━━━━━━━━━━\u001b[0m\u001b[37m\u001b[0m \u001b[1m0s\u001b[0m 91ms/step\n",
      "\u001b[1m1/1\u001b[0m \u001b[32m━━━━━━━━━━━━━━━━━━━━\u001b[0m\u001b[37m\u001b[0m \u001b[1m0s\u001b[0m 92ms/step\n",
      "\u001b[1m1/1\u001b[0m \u001b[32m━━━━━━━━━━━━━━━━━━━━\u001b[0m\u001b[37m\u001b[0m \u001b[1m0s\u001b[0m 122ms/step\n",
      "\u001b[1m1/1\u001b[0m \u001b[32m━━━━━━━━━━━━━━━━━━━━\u001b[0m\u001b[37m\u001b[0m \u001b[1m0s\u001b[0m 110ms/step\n",
      "\u001b[1m1/1\u001b[0m \u001b[32m━━━━━━━━━━━━━━━━━━━━\u001b[0m\u001b[37m\u001b[0m \u001b[1m0s\u001b[0m 167ms/step\n",
      "2024-06-15 14:00:00: 0.42997729778289795\n",
      "2024-06-15 15:00:00: 0.4155799150466919\n",
      "2024-06-15 16:00:00: 0.5317090153694153\n",
      "2024-06-15 17:00:00: 0.5232348442077637\n",
      "2024-06-15 18:00:00: 0.5308111906051636\n",
      "2024-06-15 19:00:00: 0.46086710691452026\n",
      "2024-06-15 20:00:00: 0.4641518294811249\n",
      "2024-06-15 21:00:00: 0.4305322766304016\n",
      "2024-06-15 22:00:00: 0.4354203939437866\n",
      "2024-06-15 23:00:00: 0.429423451423645\n",
      "2024-06-16 00:00:00: 0.4394753873348236\n",
      "2024-06-16 01:00:00: 0.4385610818862915\n",
      "2024-06-16 02:00:00: 0.4453285336494446\n",
      "2024-06-16 03:00:00: 0.44416284561157227\n",
      "2024-06-16 04:00:00: 0.4463116228580475\n",
      "2024-06-16 05:00:00: 0.44454896450042725\n",
      "2024-06-16 06:00:00: 0.44501835107803345\n",
      "2024-06-16 07:00:00: 0.4436986446380615\n",
      "2024-06-16 08:00:00: 0.44397208094596863\n",
      "2024-06-16 09:00:00: 0.4434167742729187\n",
      "2024-06-16 10:00:00: 0.4437406659126282\n",
      "2024-06-16 11:00:00: 0.4435771107673645\n",
      "2024-06-16 12:00:00: 0.44383272528648376\n",
      "2024-06-16 13:00:00: 0.4437621235847473\n"
     ]
    }
   ],
   "source": [
    "# Прогнозирование на будущее\n",
    "def predict_future(model, last_known_data, last_known_dates, steps=3, window_size=5):\n",
    "    predictions = []\n",
    "    future_dates = pd.date_range(start=last_known_dates[-1], periods=steps + 1, freq='h')[1:]\n",
    "    \n",
    "    current_data = last_known_data.tolist()\n",
    "    \n",
    "    for _ in range(steps):\n",
    "        input_data = np.array(current_data[-window_size:]).reshape(1, window_size, 1)\n",
    "        prediction = model.predict(input_data)\n",
    "        predictions.append(prediction[0, 0])\n",
    "        current_data.append(prediction[0, 0])\n",
    "    \n",
    "    return future_dates, predictions\n",
    "\n",
    "# Последние известные данные и даты\n",
    "last_known_data = temp.values[-WINDOW_SIZE:]\n",
    "last_known_dates = temp.index[-WINDOW_SIZE:]\n",
    "\n",
    "# Прогнозирование на 3 шага вперед\n",
    "future_steps = 24\n",
    "future_dates, predictions = predict_future(model, last_known_data, last_known_dates, future_steps, WINDOW_SIZE)\n",
    "\n",
    "# Вывод предсказаний с датами\n",
    "for date, pred in zip(future_dates, predictions):\n",
    "    print(f\"{date}: {pred}\")"
   ]
  },
  {
   "cell_type": "code",
   "execution_count": 10,
   "id": "bc6401d6-2b2d-4988-9d1c-e027ae264a7f",
   "metadata": {},
   "outputs": [
    {
     "name": "stdout",
     "output_type": "stream",
     "text": [
      "\u001b[1m206/206\u001b[0m \u001b[32m━━━━━━━━━━━━━━━━━━━━\u001b[0m\u001b[37m\u001b[0m \u001b[1m1s\u001b[0m 5ms/step\n"
     ]
    },
    {
     "data": {
      "image/png": "[encoded data removed]",
      "text/plain": [
       "<Figure size 1000x600 with 1 Axes>"
      ]
     },
     "metadata": {},
     "output_type": "display_data"
    }
   ],
   "source": [
    "# Предсказание на тестовом наборе данных\n",
    "y_pred1 = model.predict(X_test1)\n",
    "\n",
    "# Построение графика предсказанных и реальных значений\n",
    "plt.figure(figsize=(10, 6))\n",
    "plt.plot(y_pred1[700:900], label='Предсказанные значения', color='blue')\n",
    "plt.plot(y_test1[700:900], label='Реальные значения', color='red')\n",
    "plt.title('Сравнение предсказанных и реальных значений')\n",
    "plt.xlabel('Индекс')\n",
    "plt.ylabel('Значение')\n",
    "plt.legend()\n",
    "plt.show()"
   ]
  },
  {
   "cell_type": "code",
   "execution_count": 11,
   "id": "a1196db2-af35-4ea4-a428-65d99033a820",
   "metadata": {},
   "outputs": [
    {
     "name": "stdout",
     "output_type": "stream",
     "text": [
      "Средняя абсолютная ошибка (MAE): 2.1910252091154176\n",
      "Средняя квадратичная ошибка (MSE): 53.59026089538207\n",
      "Корень из среднеквадратичной ошибки (RMSE): 7.3205369267139195\n",
      "Коэффициент детерминации (R^2): 0.7897480336934652\n"
     ]
    }
   ],
   "source": [
    "# Оценка MAE\n",
    "mae = mean_absolute_error(y_test1, y_pred1)\n",
    "\n",
    "# Оценка MSE\n",
    "mse = mean_squared_error(y_test1, y_pred1)\n",
    "\n",
    "# Оценка RMSE\n",
    "rmse = np.sqrt(mse)\n",
    "\n",
    "# Оценка R^2\n",
    "r2 = r2_score(y_test1, y_pred1)\n",
    "\n",
    "print(\"Средняя абсолютная ошибка (MAE):\", mae)\n",
    "print(\"Средняя квадратичная ошибка (MSE):\", mse)\n",
    "print(\"Корень из среднеквадратичной ошибки (RMSE):\", rmse)\n",
    "print(\"Коэффициент детерминации (R^2):\", r2)"
   ]
  },
  {
   "cell_type": "code",
   "execution_count": null,
   "id": "3affa2b6-9d30-40cf-820d-ed5a3c03a7af",
   "metadata": {},
   "outputs": [],
   "source": []
  }
 ],
 "metadata": {
  "kernelspec": {
   "display_name": "Python 3 (ipykernel)",
   "language": "python",
   "name": "python3"
  },
  "language_info": {
   "codemirror_mode": {
    "name": "ipython",
    "version": 3
   },
   "file_extension": ".py",
   "mimetype": "text/x-python",
   "name": "python",
   "nbconvert_exporter": "python",
   "pygments_lexer": "ipython3",
   "version": "3.10.11"
  }
 },
 "nbformat": 4,
 "nbformat_minor": 5
}
