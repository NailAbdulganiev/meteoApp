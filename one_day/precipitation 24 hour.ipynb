{
 "cells": [
  {
   "cell_type": "code",
   "execution_count": 1,
   "id": "3e6f8106-94de-47fb-bf3c-a43d0014c967",
   "metadata": {
    "ExecuteTime": {
     "end_time": "2024-06-06T17:25:32.450642Z",
     "start_time": "2024-06-06T17:25:12.452829Z"
    }
   },
   "outputs": [
    {
     "data": {
      "text/html": [
       "<div>\n",
       "<style scoped>\n",
       "    .dataframe tbody tr th:only-of-type {\n",
       "        vertical-align: middle;\n",
       "    }\n",
       "\n",
       "    .dataframe tbody tr th {\n",
       "        vertical-align: top;\n",
       "    }\n",
       "\n",
       "    .dataframe thead th {\n",
       "        text-align: right;\n",
       "    }\n",
       "</style>\n",
       "<table border=\"1\" class=\"dataframe\">\n",
       "  <thead>\n",
       "    <tr style=\"text-align: right;\">\n",
       "      <th></th>\n",
       "      <th>PRECIPITATION</th>\n",
       "    </tr>\n",
       "    <tr>\n",
       "      <th>DATE</th>\n",
       "      <th></th>\n",
       "    </tr>\n",
       "  </thead>\n",
       "  <tbody>\n",
       "    <tr>\n",
       "      <th>2018-06-17 14:00:00</th>\n",
       "      <td>0.2</td>\n",
       "    </tr>\n",
       "    <tr>\n",
       "      <th>2018-06-17 15:00:00</th>\n",
       "      <td>0.4</td>\n",
       "    </tr>\n",
       "    <tr>\n",
       "      <th>2018-06-17 16:00:00</th>\n",
       "      <td>0.0</td>\n",
       "    </tr>\n",
       "    <tr>\n",
       "      <th>2018-06-17 17:00:00</th>\n",
       "      <td>0.0</td>\n",
       "    </tr>\n",
       "    <tr>\n",
       "      <th>2018-06-17 18:00:00</th>\n",
       "      <td>0.0</td>\n",
       "    </tr>\n",
       "    <tr>\n",
       "      <th>...</th>\n",
       "      <td>...</td>\n",
       "    </tr>\n",
       "    <tr>\n",
       "      <th>2024-06-15 09:00:00</th>\n",
       "      <td>0.0</td>\n",
       "    </tr>\n",
       "    <tr>\n",
       "      <th>2024-06-15 10:00:00</th>\n",
       "      <td>0.0</td>\n",
       "    </tr>\n",
       "    <tr>\n",
       "      <th>2024-06-15 11:00:00</th>\n",
       "      <td>0.0</td>\n",
       "    </tr>\n",
       "    <tr>\n",
       "      <th>2024-06-15 12:00:00</th>\n",
       "      <td>0.0</td>\n",
       "    </tr>\n",
       "    <tr>\n",
       "      <th>2024-06-15 13:00:00</th>\n",
       "      <td>0.0</td>\n",
       "    </tr>\n",
       "  </tbody>\n",
       "</table>\n",
       "<p>52545 rows × 1 columns</p>\n",
       "</div>"
      ],
      "text/plain": [
       "                     PRECIPITATION\n",
       "DATE                              \n",
       "2018-06-17 14:00:00            0.2\n",
       "2018-06-17 15:00:00            0.4\n",
       "2018-06-17 16:00:00            0.0\n",
       "2018-06-17 17:00:00            0.0\n",
       "2018-06-17 18:00:00            0.0\n",
       "...                            ...\n",
       "2024-06-15 09:00:00            0.0\n",
       "2024-06-15 10:00:00            0.0\n",
       "2024-06-15 11:00:00            0.0\n",
       "2024-06-15 12:00:00            0.0\n",
       "2024-06-15 13:00:00            0.0\n",
       "\n",
       "[52545 rows x 1 columns]"
      ]
     },
     "execution_count": 1,
     "metadata": {},
     "output_type": "execute_result"
    }
   ],
   "source": [
    "import tensorflow as tf\n",
    "import numpy as np\n",
    "import pandas as pd\n",
    "import matplotlib.pyplot as plt\n",
    "import os\n",
    "from sklearn.metrics import mean_absolute_error, mean_squared_error, r2_score\n",
    "from tensorflow.keras.models import Sequential\n",
    "from tensorflow.keras.layers import *\n",
    "from tensorflow.keras.callbacks import ModelCheckpoint\n",
    "from tensorflow.keras.losses import MeanSquaredError\n",
    "from tensorflow.keras.metrics import RootMeanSquaredError\n",
    "from tensorflow.keras.optimizers import Adam\n",
    "\n",
    "df = pd.read_csv(\"../meteo_data.csv\")\n",
    "df.index = pd.to_datetime(df.DATE)\n",
    "del df['DATE']\n",
    "\n",
    "required_cols = ['PRECIPITATION']\n",
    "df = df[required_cols]\n",
    "df"
   ]
  },
  {
   "cell_type": "code",
   "execution_count": 2,
   "id": "2481ca5e-f87b-48f5-afec-1cc6fe2ce99f",
   "metadata": {},
   "outputs": [
    {
     "data": {
      "image/png": "[encoded data removed]",
      "text/plain": [
       "<Figure size 1000x600 with 1 Axes>"
      ]
     },
     "metadata": {},
     "output_type": "display_data"
    }
   ],
   "source": [
    "temp = df['PRECIPITATION']\n",
    "\n",
    "plt.figure(figsize=(10, 6))\n",
    "plt.plot(df['PRECIPITATION'], label='Осадки', color='blue')\n",
    "\n",
    "# Настройка графика\n",
    "plt.xlabel('Индекс')\n",
    "plt.ylabel('Значение')\n",
    "plt.legend()\n",
    "\n",
    "# Показать график\n",
    "plt.show()"
   ]
  },
  {
   "cell_type": "code",
   "execution_count": 3,
   "id": "e5c5385e-e555-46f1-a452-37fca7e7ec6b",
   "metadata": {},
   "outputs": [
    {
     "data": {
      "text/plain": [
       "((39408, 2, 1), (39408,), (6568, 2, 1), (6568,), (6567, 2, 1), (6567,))"
      ]
     },
     "execution_count": 3,
     "metadata": {},
     "output_type": "execute_result"
    }
   ],
   "source": [
    "# [[1], [2], [3], [4], [5], [6], [7], [8], [9], [10]]   [11]\n",
    "# [[2], [3], [4], [5], [6], [7], [8], [9], [10], [11]]  [12]\n",
    "# [[3], [4], [5], [6], [7], [8], [9], [10], [11], [12]] [13]\n",
    "def df_to_X_y(df, window_size=24):\n",
    "    df_as_np = df.to_numpy()\n",
    "    X = []\n",
    "    y = []\n",
    "    for i in range(len(df_as_np) - window_size):\n",
    "        row = [[a] for a in df_as_np[i:i + window_size]]\n",
    "        X.append(row)\n",
    "        label = df_as_np[i + window_size]\n",
    "        y.append(label)\n",
    "    return np.array(X), np.array(y)\n",
    "\n",
    "WINDOW_SIZE = 2\n",
    "X1, y1 = df_to_X_y(temp, WINDOW_SIZE)\n",
    "\n",
    "# Размеры выборок\n",
    "n = len(df)\n",
    "train_size = int(n * 0.75)\n",
    "val_size = int(n * 0.125)\n",
    "test_size = n - train_size - val_size\n",
    "\n",
    "X_train1, y_train1 = X1[:train_size], y1[:train_size]\n",
    "X_val1, y_val1 = X1[train_size:train_size + val_size], y1[train_size:train_size + val_size]\n",
    "X_test1, y_test1 = X1[train_size + val_size:], y1[train_size + val_size:]\n",
    "X_train1.shape, y_train1.shape, X_val1.shape, y_val1.shape, X_test1.shape, y_test1.shape"
   ]
  },
  {
   "cell_type": "code",
   "execution_count": 4,
   "id": "81c1d8cd-c612-4c05-a32b-331fd3b959c0",
   "metadata": {},
   "outputs": [
    {
     "data": {
      "text/html": [
       "<pre style=\"white-space:pre;overflow-x:auto;line-height:normal;font-family:Menlo,'DejaVu Sans Mono',consolas,'Courier New',monospace\"><span style=\"font-weight: bold\">Model: \"sequential\"</span>\n",
       "</pre>\n"
      ],
      "text/plain": [
       "\u001b[1mModel: \"sequential\"\u001b[0m\n"
      ]
     },
     "metadata": {},
     "output_type": "display_data"
    },
    {
     "data": {
      "text/html": [
       "<pre style=\"white-space:pre;overflow-x:auto;line-height:normal;font-family:Menlo,'DejaVu Sans Mono',consolas,'Courier New',monospace\">┏━━━━━━━━━━━━━━━━━━━━━━━━━━━━━━━━━━━━━━┳━━━━━━━━━━━━━━━━━━━━━━━━━━━━━┳━━━━━━━━━━━━━━━━━┓\n",
       "┃<span style=\"font-weight: bold\"> Layer (type)                         </span>┃<span style=\"font-weight: bold\"> Output Shape                </span>┃<span style=\"font-weight: bold\">         Param # </span>┃\n",
       "┡━━━━━━━━━━━━━━━━━━━━━━━━━━━━━━━━━━━━━━╇━━━━━━━━━━━━━━━━━━━━━━━━━━━━━╇━━━━━━━━━━━━━━━━━┩\n",
       "│ lstm (<span style=\"color: #0087ff; text-decoration-color: #0087ff\">LSTM</span>)                          │ (<span style=\"color: #00d7ff; text-decoration-color: #00d7ff\">None</span>, <span style=\"color: #00af00; text-decoration-color: #00af00\">2</span>, <span style=\"color: #00af00; text-decoration-color: #00af00\">64</span>)               │          <span style=\"color: #00af00; text-decoration-color: #00af00\">16,896</span> │\n",
       "├──────────────────────────────────────┼─────────────────────────────┼─────────────────┤\n",
       "│ dropout (<span style=\"color: #0087ff; text-decoration-color: #0087ff\">Dropout</span>)                    │ (<span style=\"color: #00d7ff; text-decoration-color: #00d7ff\">None</span>, <span style=\"color: #00af00; text-decoration-color: #00af00\">2</span>, <span style=\"color: #00af00; text-decoration-color: #00af00\">64</span>)               │               <span style=\"color: #00af00; text-decoration-color: #00af00\">0</span> │\n",
       "├──────────────────────────────────────┼─────────────────────────────┼─────────────────┤\n",
       "│ lstm_1 (<span style=\"color: #0087ff; text-decoration-color: #0087ff\">LSTM</span>)                        │ (<span style=\"color: #00d7ff; text-decoration-color: #00d7ff\">None</span>, <span style=\"color: #00af00; text-decoration-color: #00af00\">2</span>, <span style=\"color: #00af00; text-decoration-color: #00af00\">64</span>)               │          <span style=\"color: #00af00; text-decoration-color: #00af00\">33,024</span> │\n",
       "├──────────────────────────────────────┼─────────────────────────────┼─────────────────┤\n",
       "│ dropout_1 (<span style=\"color: #0087ff; text-decoration-color: #0087ff\">Dropout</span>)                  │ (<span style=\"color: #00d7ff; text-decoration-color: #00d7ff\">None</span>, <span style=\"color: #00af00; text-decoration-color: #00af00\">2</span>, <span style=\"color: #00af00; text-decoration-color: #00af00\">64</span>)               │               <span style=\"color: #00af00; text-decoration-color: #00af00\">0</span> │\n",
       "├──────────────────────────────────────┼─────────────────────────────┼─────────────────┤\n",
       "│ lstm_2 (<span style=\"color: #0087ff; text-decoration-color: #0087ff\">LSTM</span>)                        │ (<span style=\"color: #00d7ff; text-decoration-color: #00d7ff\">None</span>, <span style=\"color: #00af00; text-decoration-color: #00af00\">32</span>)                  │          <span style=\"color: #00af00; text-decoration-color: #00af00\">12,416</span> │\n",
       "├──────────────────────────────────────┼─────────────────────────────┼─────────────────┤\n",
       "│ dropout_2 (<span style=\"color: #0087ff; text-decoration-color: #0087ff\">Dropout</span>)                  │ (<span style=\"color: #00d7ff; text-decoration-color: #00d7ff\">None</span>, <span style=\"color: #00af00; text-decoration-color: #00af00\">32</span>)                  │               <span style=\"color: #00af00; text-decoration-color: #00af00\">0</span> │\n",
       "├──────────────────────────────────────┼─────────────────────────────┼─────────────────┤\n",
       "│ dense (<span style=\"color: #0087ff; text-decoration-color: #0087ff\">Dense</span>)                        │ (<span style=\"color: #00d7ff; text-decoration-color: #00d7ff\">None</span>, <span style=\"color: #00af00; text-decoration-color: #00af00\">16</span>)                  │             <span style=\"color: #00af00; text-decoration-color: #00af00\">528</span> │\n",
       "├──────────────────────────────────────┼─────────────────────────────┼─────────────────┤\n",
       "│ dense_1 (<span style=\"color: #0087ff; text-decoration-color: #0087ff\">Dense</span>)                      │ (<span style=\"color: #00d7ff; text-decoration-color: #00d7ff\">None</span>, <span style=\"color: #00af00; text-decoration-color: #00af00\">8</span>)                   │             <span style=\"color: #00af00; text-decoration-color: #00af00\">136</span> │\n",
       "├──────────────────────────────────────┼─────────────────────────────┼─────────────────┤\n",
       "│ dense_2 (<span style=\"color: #0087ff; text-decoration-color: #0087ff\">Dense</span>)                      │ (<span style=\"color: #00d7ff; text-decoration-color: #00d7ff\">None</span>, <span style=\"color: #00af00; text-decoration-color: #00af00\">1</span>)                   │               <span style=\"color: #00af00; text-decoration-color: #00af00\">9</span> │\n",
       "└──────────────────────────────────────┴─────────────────────────────┴─────────────────┘\n",
       "</pre>\n"
      ],
      "text/plain": [
       "┏━━━━━━━━━━━━━━━━━━━━━━━━━━━━━━━━━━━━━━┳━━━━━━━━━━━━━━━━━━━━━━━━━━━━━┳━━━━━━━━━━━━━━━━━┓\n",
       "┃\u001b[1m \u001b[0m\u001b[1mLayer (type)                        \u001b[0m\u001b[1m \u001b[0m┃\u001b[1m \u001b[0m\u001b[1mOutput Shape               \u001b[0m\u001b[1m \u001b[0m┃\u001b[1m \u001b[0m\u001b[1m        Param #\u001b[0m\u001b[1m \u001b[0m┃\n",
       "┡━━━━━━━━━━━━━━━━━━━━━━━━━━━━━━━━━━━━━━╇━━━━━━━━━━━━━━━━━━━━━━━━━━━━━╇━━━━━━━━━━━━━━━━━┩\n",
       "│ lstm (\u001b[38;5;33mLSTM\u001b[0m)                          │ (\u001b[38;5;45mNone\u001b[0m, \u001b[38;5;34m2\u001b[0m, \u001b[38;5;34m64\u001b[0m)               │          \u001b[38;5;34m16,896\u001b[0m │\n",
       "├──────────────────────────────────────┼─────────────────────────────┼─────────────────┤\n",
       "│ dropout (\u001b[38;5;33mDropout\u001b[0m)                    │ (\u001b[38;5;45mNone\u001b[0m, \u001b[38;5;34m2\u001b[0m, \u001b[38;5;34m64\u001b[0m)               │               \u001b[38;5;34m0\u001b[0m │\n",
       "├──────────────────────────────────────┼─────────────────────────────┼─────────────────┤\n",
       "│ lstm_1 (\u001b[38;5;33mLSTM\u001b[0m)                        │ (\u001b[38;5;45mNone\u001b[0m, \u001b[38;5;34m2\u001b[0m, \u001b[38;5;34m64\u001b[0m)               │          \u001b[38;5;34m33,024\u001b[0m │\n",
       "├──────────────────────────────────────┼─────────────────────────────┼─────────────────┤\n",
       "│ dropout_1 (\u001b[38;5;33mDropout\u001b[0m)                  │ (\u001b[38;5;45mNone\u001b[0m, \u001b[38;5;34m2\u001b[0m, \u001b[38;5;34m64\u001b[0m)               │               \u001b[38;5;34m0\u001b[0m │\n",
       "├──────────────────────────────────────┼─────────────────────────────┼─────────────────┤\n",
       "│ lstm_2 (\u001b[38;5;33mLSTM\u001b[0m)                        │ (\u001b[38;5;45mNone\u001b[0m, \u001b[38;5;34m32\u001b[0m)                  │          \u001b[38;5;34m12,416\u001b[0m │\n",
       "├──────────────────────────────────────┼─────────────────────────────┼─────────────────┤\n",
       "│ dropout_2 (\u001b[38;5;33mDropout\u001b[0m)                  │ (\u001b[38;5;45mNone\u001b[0m, \u001b[38;5;34m32\u001b[0m)                  │               \u001b[38;5;34m0\u001b[0m │\n",
       "├──────────────────────────────────────┼─────────────────────────────┼─────────────────┤\n",
       "│ dense (\u001b[38;5;33mDense\u001b[0m)                        │ (\u001b[38;5;45mNone\u001b[0m, \u001b[38;5;34m16\u001b[0m)                  │             \u001b[38;5;34m528\u001b[0m │\n",
       "├──────────────────────────────────────┼─────────────────────────────┼─────────────────┤\n",
       "│ dense_1 (\u001b[38;5;33mDense\u001b[0m)                      │ (\u001b[38;5;45mNone\u001b[0m, \u001b[38;5;34m8\u001b[0m)                   │             \u001b[38;5;34m136\u001b[0m │\n",
       "├──────────────────────────────────────┼─────────────────────────────┼─────────────────┤\n",
       "│ dense_2 (\u001b[38;5;33mDense\u001b[0m)                      │ (\u001b[38;5;45mNone\u001b[0m, \u001b[38;5;34m1\u001b[0m)                   │               \u001b[38;5;34m9\u001b[0m │\n",
       "└──────────────────────────────────────┴─────────────────────────────┴─────────────────┘\n"
      ]
     },
     "metadata": {},
     "output_type": "display_data"
    },
    {
     "data": {
      "text/html": [
       "<pre style=\"white-space:pre;overflow-x:auto;line-height:normal;font-family:Menlo,'DejaVu Sans Mono',consolas,'Courier New',monospace\"><span style=\"font-weight: bold\"> Total params: </span><span style=\"color: #00af00; text-decoration-color: #00af00\">63,009</span> (246.13 KB)\n",
       "</pre>\n"
      ],
      "text/plain": [
       "\u001b[1m Total params: \u001b[0m\u001b[38;5;34m63,009\u001b[0m (246.13 KB)\n"
      ]
     },
     "metadata": {},
     "output_type": "display_data"
    },
    {
     "data": {
      "text/html": [
       "<pre style=\"white-space:pre;overflow-x:auto;line-height:normal;font-family:Menlo,'DejaVu Sans Mono',consolas,'Courier New',monospace\"><span style=\"font-weight: bold\"> Trainable params: </span><span style=\"color: #00af00; text-decoration-color: #00af00\">63,009</span> (246.13 KB)\n",
       "</pre>\n"
      ],
      "text/plain": [
       "\u001b[1m Trainable params: \u001b[0m\u001b[38;5;34m63,009\u001b[0m (246.13 KB)\n"
      ]
     },
     "metadata": {},
     "output_type": "display_data"
    },
    {
     "data": {
      "text/html": [
       "<pre style=\"white-space:pre;overflow-x:auto;line-height:normal;font-family:Menlo,'DejaVu Sans Mono',consolas,'Courier New',monospace\"><span style=\"font-weight: bold\"> Non-trainable params: </span><span style=\"color: #00af00; text-decoration-color: #00af00\">0</span> (0.00 B)\n",
       "</pre>\n"
      ],
      "text/plain": [
       "\u001b[1m Non-trainable params: \u001b[0m\u001b[38;5;34m0\u001b[0m (0.00 B)\n"
      ]
     },
     "metadata": {},
     "output_type": "display_data"
    }
   ],
   "source": [
    "model2 = Sequential()\n",
    "model2.add(InputLayer((WINDOW_SIZE, 1)))\n",
    "model2.add(LSTM(64, return_sequences=True))\n",
    "model2.add(Dropout(0.5))\n",
    "model2.add(LSTM(64, return_sequences=True))\n",
    "model2.add(Dropout(0.5))\n",
    "model2.add(LSTM(32))\n",
    "model2.add(Dropout(0.5))\n",
    "model2.add(Dense(16, activation='relu'))\n",
    "model2.add(Dense(8, activation='relu'))\n",
    "model2.add(Dense(1, activation='relu'))\n",
    "model2.summary()"
   ]
  },
  {
   "cell_type": "code",
   "execution_count": 5,
   "id": "d2a2a1c3-52f4-4c8e-a979-c9bd2b5a459a",
   "metadata": {},
   "outputs": [],
   "source": [
    "# Настройки обратного вызова и компиляции модели\n",
    "model_save_path = 'model2/model2-PRECIPITATION.keras'  \n",
    "cp2 = ModelCheckpoint(model_save_path, save_best_only=True)\n",
    "model2.compile(loss=MeanSquaredError(), optimizer=Adam(learning_rate=0.0001), metrics=[RootMeanSquaredError()])"
   ]
  },
  {
   "cell_type": "code",
   "execution_count": 6,
   "id": "c5b93abf-a6cc-446a-bf67-2edda06610a2",
   "metadata": {},
   "outputs": [
    {
     "name": "stdout",
     "output_type": "stream",
     "text": [
      "Epoch 1/50\n",
      "\u001b[1m1232/1232\u001b[0m \u001b[32m━━━━━━━━━━━━━━━━━━━━\u001b[0m\u001b[37m\u001b[0m \u001b[1m24s\u001b[0m 10ms/step - loss: 0.1980 - root_mean_squared_error: 0.4415 - val_loss: 0.4354 - val_root_mean_squared_error: 0.6599\n",
      "Epoch 2/50\n",
      "\u001b[1m1232/1232\u001b[0m \u001b[32m━━━━━━━━━━━━━━━━━━━━\u001b[0m\u001b[37m\u001b[0m \u001b[1m11s\u001b[0m 9ms/step - loss: 0.2954 - root_mean_squared_error: 0.5411 - val_loss: 0.4123 - val_root_mean_squared_error: 0.6421\n",
      "Epoch 3/50\n",
      "\u001b[1m1232/1232\u001b[0m \u001b[32m━━━━━━━━━━━━━━━━━━━━\u001b[0m\u001b[37m\u001b[0m \u001b[1m11s\u001b[0m 9ms/step - loss: 0.2094 - root_mean_squared_error: 0.4551 - val_loss: 0.4040 - val_root_mean_squared_error: 0.6356\n",
      "Epoch 4/50\n",
      "\u001b[1m1232/1232\u001b[0m \u001b[32m━━━━━━━━━━━━━━━━━━━━\u001b[0m\u001b[37m\u001b[0m \u001b[1m11s\u001b[0m 9ms/step - loss: 0.1851 - root_mean_squared_error: 0.4253 - val_loss: 0.3923 - val_root_mean_squared_error: 0.6263\n",
      "Epoch 5/50\n",
      "\u001b[1m1232/1232\u001b[0m \u001b[32m━━━━━━━━━━━━━━━━━━━━\u001b[0m\u001b[37m\u001b[0m \u001b[1m12s\u001b[0m 9ms/step - loss: 0.2571 - root_mean_squared_error: 0.5040 - val_loss: 0.3830 - val_root_mean_squared_error: 0.6189\n",
      "Epoch 6/50\n",
      "\u001b[1m1232/1232\u001b[0m \u001b[32m━━━━━━━━━━━━━━━━━━━━\u001b[0m\u001b[37m\u001b[0m \u001b[1m12s\u001b[0m 9ms/step - loss: 0.2191 - root_mean_squared_error: 0.4659 - val_loss: 0.3698 - val_root_mean_squared_error: 0.6081\n",
      "Epoch 7/50\n",
      "\u001b[1m1232/1232\u001b[0m \u001b[32m━━━━━━━━━━━━━━━━━━━━\u001b[0m\u001b[37m\u001b[0m \u001b[1m11s\u001b[0m 9ms/step - loss: 0.1639 - root_mean_squared_error: 0.4006 - val_loss: 0.3631 - val_root_mean_squared_error: 0.6026\n",
      "Epoch 8/50\n",
      "\u001b[1m1232/1232\u001b[0m \u001b[32m━━━━━━━━━━━━━━━━━━━━\u001b[0m\u001b[37m\u001b[0m \u001b[1m11s\u001b[0m 9ms/step - loss: 0.2697 - root_mean_squared_error: 0.5142 - val_loss: 0.3640 - val_root_mean_squared_error: 0.6033\n",
      "Epoch 9/50\n",
      "\u001b[1m1232/1232\u001b[0m \u001b[32m━━━━━━━━━━━━━━━━━━━━\u001b[0m\u001b[37m\u001b[0m \u001b[1m12s\u001b[0m 10ms/step - loss: 0.1882 - root_mean_squared_error: 0.4304 - val_loss: 0.3642 - val_root_mean_squared_error: 0.6034\n",
      "Epoch 10/50\n",
      "\u001b[1m1232/1232\u001b[0m \u001b[32m━━━━━━━━━━━━━━━━━━━━\u001b[0m\u001b[37m\u001b[0m \u001b[1m11s\u001b[0m 9ms/step - loss: 0.2307 - root_mean_squared_error: 0.4774 - val_loss: 0.3638 - val_root_mean_squared_error: 0.6031\n",
      "Epoch 11/50\n",
      "\u001b[1m1232/1232\u001b[0m \u001b[32m━━━━━━━━━━━━━━━━━━━━\u001b[0m\u001b[37m\u001b[0m \u001b[1m12s\u001b[0m 10ms/step - loss: 0.1703 - root_mean_squared_error: 0.4104 - val_loss: 0.3641 - val_root_mean_squared_error: 0.6034\n",
      "Epoch 12/50\n",
      "\u001b[1m1232/1232\u001b[0m \u001b[32m━━━━━━━━━━━━━━━━━━━━\u001b[0m\u001b[37m\u001b[0m \u001b[1m22s\u001b[0m 11ms/step - loss: 0.2042 - root_mean_squared_error: 0.4494 - val_loss: 0.3662 - val_root_mean_squared_error: 0.6051\n",
      "Epoch 13/50\n",
      "\u001b[1m1232/1232\u001b[0m \u001b[32m━━━━━━━━━━━━━━━━━━━━\u001b[0m\u001b[37m\u001b[0m \u001b[1m21s\u001b[0m 12ms/step - loss: 0.1741 - root_mean_squared_error: 0.4135 - val_loss: 0.3636 - val_root_mean_squared_error: 0.6030\n",
      "Epoch 14/50\n",
      "\u001b[1m1232/1232\u001b[0m \u001b[32m━━━━━━━━━━━━━━━━━━━━\u001b[0m\u001b[37m\u001b[0m \u001b[1m20s\u001b[0m 12ms/step - loss: 0.1836 - root_mean_squared_error: 0.4245 - val_loss: 0.3646 - val_root_mean_squared_error: 0.6038\n",
      "Epoch 15/50\n",
      "\u001b[1m1232/1232\u001b[0m \u001b[32m━━━━━━━━━━━━━━━━━━━━\u001b[0m\u001b[37m\u001b[0m \u001b[1m15s\u001b[0m 12ms/step - loss: 0.2513 - root_mean_squared_error: 0.4987 - val_loss: 0.3643 - val_root_mean_squared_error: 0.6036\n",
      "Epoch 16/50\n",
      "\u001b[1m1232/1232\u001b[0m \u001b[32m━━━━━━━━━━━━━━━━━━━━\u001b[0m\u001b[37m\u001b[0m \u001b[1m13s\u001b[0m 10ms/step - loss: 0.2190 - root_mean_squared_error: 0.4664 - val_loss: 0.3654 - val_root_mean_squared_error: 0.6045\n",
      "Epoch 17/50\n",
      "\u001b[1m1232/1232\u001b[0m \u001b[32m━━━━━━━━━━━━━━━━━━━━\u001b[0m\u001b[37m\u001b[0m \u001b[1m12s\u001b[0m 10ms/step - loss: 0.2074 - root_mean_squared_error: 0.4530 - val_loss: 0.3648 - val_root_mean_squared_error: 0.6040\n",
      "Epoch 18/50\n",
      "\u001b[1m1232/1232\u001b[0m \u001b[32m━━━━━━━━━━━━━━━━━━━━\u001b[0m\u001b[37m\u001b[0m \u001b[1m11s\u001b[0m 9ms/step - loss: 0.1907 - root_mean_squared_error: 0.4331 - val_loss: 0.3641 - val_root_mean_squared_error: 0.6034\n",
      "Epoch 19/50\n",
      "\u001b[1m1232/1232\u001b[0m \u001b[32m━━━━━━━━━━━━━━━━━━━━\u001b[0m\u001b[37m\u001b[0m \u001b[1m11s\u001b[0m 9ms/step - loss: 0.2635 - root_mean_squared_error: 0.5095 - val_loss: 0.3646 - val_root_mean_squared_error: 0.6038\n",
      "Epoch 20/50\n",
      "\u001b[1m1232/1232\u001b[0m \u001b[32m━━━━━━━━━━━━━━━━━━━━\u001b[0m\u001b[37m\u001b[0m \u001b[1m12s\u001b[0m 10ms/step - loss: 0.1870 - root_mean_squared_error: 0.4299 - val_loss: 0.3662 - val_root_mean_squared_error: 0.6052\n",
      "Epoch 21/50\n",
      "\u001b[1m1232/1232\u001b[0m \u001b[32m━━━━━━━━━━━━━━━━━━━━\u001b[0m\u001b[37m\u001b[0m \u001b[1m12s\u001b[0m 9ms/step - loss: 0.2348 - root_mean_squared_error: 0.4777 - val_loss: 0.3666 - val_root_mean_squared_error: 0.6055\n",
      "Epoch 22/50\n",
      "\u001b[1m1232/1232\u001b[0m \u001b[32m━━━━━━━━━━━━━━━━━━━━\u001b[0m\u001b[37m\u001b[0m \u001b[1m12s\u001b[0m 10ms/step - loss: 0.2037 - root_mean_squared_error: 0.4479 - val_loss: 0.3678 - val_root_mean_squared_error: 0.6064\n",
      "Epoch 23/50\n",
      "\u001b[1m1232/1232\u001b[0m \u001b[32m━━━━━━━━━━━━━━━━━━━━\u001b[0m\u001b[37m\u001b[0m \u001b[1m11s\u001b[0m 9ms/step - loss: 0.2084 - root_mean_squared_error: 0.4545 - val_loss: 0.3675 - val_root_mean_squared_error: 0.6062\n",
      "Epoch 24/50\n",
      "\u001b[1m1232/1232\u001b[0m \u001b[32m━━━━━━━━━━━━━━━━━━━━\u001b[0m\u001b[37m\u001b[0m \u001b[1m12s\u001b[0m 10ms/step - loss: 0.2776 - root_mean_squared_error: 0.5207 - val_loss: 0.3673 - val_root_mean_squared_error: 0.6061\n",
      "Epoch 25/50\n",
      "\u001b[1m1232/1232\u001b[0m \u001b[32m━━━━━━━━━━━━━━━━━━━━\u001b[0m\u001b[37m\u001b[0m \u001b[1m12s\u001b[0m 10ms/step - loss: 0.2034 - root_mean_squared_error: 0.4468 - val_loss: 0.3663 - val_root_mean_squared_error: 0.6053\n",
      "Epoch 26/50\n",
      "\u001b[1m1232/1232\u001b[0m \u001b[32m━━━━━━━━━━━━━━━━━━━━\u001b[0m\u001b[37m\u001b[0m \u001b[1m12s\u001b[0m 10ms/step - loss: 0.1961 - root_mean_squared_error: 0.4399 - val_loss: 0.3675 - val_root_mean_squared_error: 0.6062\n",
      "Epoch 27/50\n",
      "\u001b[1m1232/1232\u001b[0m \u001b[32m━━━━━━━━━━━━━━━━━━━━\u001b[0m\u001b[37m\u001b[0m \u001b[1m12s\u001b[0m 10ms/step - loss: 0.2600 - root_mean_squared_error: 0.5064 - val_loss: 0.3665 - val_root_mean_squared_error: 0.6054\n",
      "Epoch 28/50\n",
      "\u001b[1m1232/1232\u001b[0m \u001b[32m━━━━━━━━━━━━━━━━━━━━\u001b[0m\u001b[37m\u001b[0m \u001b[1m12s\u001b[0m 10ms/step - loss: 0.1661 - root_mean_squared_error: 0.4051 - val_loss: 0.3685 - val_root_mean_squared_error: 0.6071\n",
      "Epoch 29/50\n",
      "\u001b[1m1232/1232\u001b[0m \u001b[32m━━━━━━━━━━━━━━━━━━━━\u001b[0m\u001b[37m\u001b[0m \u001b[1m12s\u001b[0m 10ms/step - loss: 0.2396 - root_mean_squared_error: 0.4860 - val_loss: 0.3685 - val_root_mean_squared_error: 0.6071\n",
      "Epoch 30/50\n",
      "\u001b[1m1232/1232\u001b[0m \u001b[32m━━━━━━━━━━━━━━━━━━━━\u001b[0m\u001b[37m\u001b[0m \u001b[1m14s\u001b[0m 11ms/step - loss: 0.2142 - root_mean_squared_error: 0.4595 - val_loss: 0.3684 - val_root_mean_squared_error: 0.6070\n",
      "Epoch 31/50\n",
      "\u001b[1m1232/1232\u001b[0m \u001b[32m━━━━━━━━━━━━━━━━━━━━\u001b[0m\u001b[37m\u001b[0m \u001b[1m18s\u001b[0m 15ms/step - loss: 0.1934 - root_mean_squared_error: 0.4377 - val_loss: 0.3665 - val_root_mean_squared_error: 0.6054\n",
      "Epoch 32/50\n",
      "\u001b[1m1232/1232\u001b[0m \u001b[32m━━━━━━━━━━━━━━━━━━━━\u001b[0m\u001b[37m\u001b[0m \u001b[1m18s\u001b[0m 15ms/step - loss: 0.2304 - root_mean_squared_error: 0.4763 - val_loss: 0.3693 - val_root_mean_squared_error: 0.6077\n",
      "Epoch 33/50\n",
      "\u001b[1m1232/1232\u001b[0m \u001b[32m━━━━━━━━━━━━━━━━━━━━\u001b[0m\u001b[37m\u001b[0m \u001b[1m16s\u001b[0m 13ms/step - loss: 0.1608 - root_mean_squared_error: 0.3968 - val_loss: 0.3667 - val_root_mean_squared_error: 0.6055\n",
      "Epoch 34/50\n",
      "\u001b[1m1232/1232\u001b[0m \u001b[32m━━━━━━━━━━━━━━━━━━━━\u001b[0m\u001b[37m\u001b[0m \u001b[1m13s\u001b[0m 11ms/step - loss: 0.2233 - root_mean_squared_error: 0.4701 - val_loss: 0.3685 - val_root_mean_squared_error: 0.6070\n",
      "Epoch 35/50\n",
      "\u001b[1m1232/1232\u001b[0m \u001b[32m━━━━━━━━━━━━━━━━━━━━\u001b[0m\u001b[37m\u001b[0m \u001b[1m15s\u001b[0m 12ms/step - loss: 0.1764 - root_mean_squared_error: 0.4170 - val_loss: 0.3671 - val_root_mean_squared_error: 0.6059\n",
      "Epoch 36/50\n",
      "\u001b[1m1232/1232\u001b[0m \u001b[32m━━━━━━━━━━━━━━━━━━━━\u001b[0m\u001b[37m\u001b[0m \u001b[1m12s\u001b[0m 10ms/step - loss: 0.1861 - root_mean_squared_error: 0.4288 - val_loss: 0.3692 - val_root_mean_squared_error: 0.6076\n",
      "Epoch 37/50\n",
      "\u001b[1m1232/1232\u001b[0m \u001b[32m━━━━━━━━━━━━━━━━━━━━\u001b[0m\u001b[37m\u001b[0m \u001b[1m13s\u001b[0m 11ms/step - loss: 0.2145 - root_mean_squared_error: 0.4580 - val_loss: 0.3691 - val_root_mean_squared_error: 0.6075\n",
      "Epoch 38/50\n",
      "\u001b[1m1232/1232\u001b[0m \u001b[32m━━━━━━━━━━━━━━━━━━━━\u001b[0m\u001b[37m\u001b[0m \u001b[1m17s\u001b[0m 14ms/step - loss: 0.2736 - root_mean_squared_error: 0.5196 - val_loss: 0.3689 - val_root_mean_squared_error: 0.6074\n",
      "Epoch 39/50\n",
      "\u001b[1m1232/1232\u001b[0m \u001b[32m━━━━━━━━━━━━━━━━━━━━\u001b[0m\u001b[37m\u001b[0m \u001b[1m13s\u001b[0m 10ms/step - loss: 0.1946 - root_mean_squared_error: 0.4365 - val_loss: 0.3684 - val_root_mean_squared_error: 0.6069\n",
      "Epoch 40/50\n",
      "\u001b[1m1232/1232\u001b[0m \u001b[32m━━━━━━━━━━━━━━━━━━━━\u001b[0m\u001b[37m\u001b[0m \u001b[1m19s\u001b[0m 15ms/step - loss: 0.1604 - root_mean_squared_error: 0.3951 - val_loss: 0.3701 - val_root_mean_squared_error: 0.6083\n",
      "Epoch 41/50\n",
      "\u001b[1m1232/1232\u001b[0m \u001b[32m━━━━━━━━━━━━━━━━━━━━\u001b[0m\u001b[37m\u001b[0m \u001b[1m17s\u001b[0m 14ms/step - loss: 0.2112 - root_mean_squared_error: 0.4581 - val_loss: 0.3684 - val_root_mean_squared_error: 0.6069\n",
      "Epoch 42/50\n",
      "\u001b[1m1232/1232\u001b[0m \u001b[32m━━━━━━━━━━━━━━━━━━━━\u001b[0m\u001b[37m\u001b[0m \u001b[1m16s\u001b[0m 13ms/step - loss: 0.2409 - root_mean_squared_error: 0.4865 - val_loss: 0.3700 - val_root_mean_squared_error: 0.6082\n",
      "Epoch 43/50\n",
      "\u001b[1m1232/1232\u001b[0m \u001b[32m━━━━━━━━━━━━━━━━━━━━\u001b[0m\u001b[37m\u001b[0m \u001b[1m14s\u001b[0m 12ms/step - loss: 0.3207 - root_mean_squared_error: 0.5541 - val_loss: 0.3704 - val_root_mean_squared_error: 0.6086\n",
      "Epoch 44/50\n",
      "\u001b[1m1232/1232\u001b[0m \u001b[32m━━━━━━━━━━━━━━━━━━━━\u001b[0m\u001b[37m\u001b[0m \u001b[1m16s\u001b[0m 13ms/step - loss: 0.2061 - root_mean_squared_error: 0.4526 - val_loss: 0.3667 - val_root_mean_squared_error: 0.6055\n",
      "Epoch 45/50\n",
      "\u001b[1m1232/1232\u001b[0m \u001b[32m━━━━━━━━━━━━━━━━━━━━\u001b[0m\u001b[37m\u001b[0m \u001b[1m15s\u001b[0m 12ms/step - loss: 0.1952 - root_mean_squared_error: 0.4386 - val_loss: 0.3657 - val_root_mean_squared_error: 0.6047\n",
      "Epoch 46/50\n",
      "\u001b[1m1232/1232\u001b[0m \u001b[32m━━━━━━━━━━━━━━━━━━━━\u001b[0m\u001b[37m\u001b[0m \u001b[1m17s\u001b[0m 14ms/step - loss: 0.2302 - root_mean_squared_error: 0.4772 - val_loss: 0.3676 - val_root_mean_squared_error: 0.6063\n",
      "Epoch 47/50\n",
      "\u001b[1m1232/1232\u001b[0m \u001b[32m━━━━━━━━━━━━━━━━━━━━\u001b[0m\u001b[37m\u001b[0m \u001b[1m20s\u001b[0m 14ms/step - loss: 0.1904 - root_mean_squared_error: 0.4325 - val_loss: 0.3669 - val_root_mean_squared_error: 0.6057\n",
      "Epoch 48/50\n",
      "\u001b[1m1232/1232\u001b[0m \u001b[32m━━━━━━━━━━━━━━━━━━━━\u001b[0m\u001b[37m\u001b[0m \u001b[1m18s\u001b[0m 15ms/step - loss: 0.2064 - root_mean_squared_error: 0.4528 - val_loss: 0.3687 - val_root_mean_squared_error: 0.6072\n",
      "Epoch 49/50\n",
      "\u001b[1m1232/1232\u001b[0m \u001b[32m━━━━━━━━━━━━━━━━━━━━\u001b[0m\u001b[37m\u001b[0m \u001b[1m17s\u001b[0m 13ms/step - loss: 0.1764 - root_mean_squared_error: 0.4155 - val_loss: 0.3695 - val_root_mean_squared_error: 0.6078\n",
      "Epoch 50/50\n",
      "\u001b[1m1232/1232\u001b[0m \u001b[32m━━━━━━━━━━━━━━━━━━━━\u001b[0m\u001b[37m\u001b[0m \u001b[1m15s\u001b[0m 12ms/step - loss: 0.2216 - root_mean_squared_error: 0.4678 - val_loss: 0.3697 - val_root_mean_squared_error: 0.6080\n"
     ]
    },
    {
     "data": {
      "text/plain": [
       "<keras.src.callbacks.history.History at 0x2348e276440>"
      ]
     },
     "execution_count": 6,
     "metadata": {},
     "output_type": "execute_result"
    }
   ],
   "source": [
    "# Обучение модели\n",
    "model2.fit(X_train1, y_train1, validation_data=(X_val1, y_val1), epochs=50, callbacks=[cp2])"
   ]
  },
  {
   "cell_type": "code",
   "execution_count": 7,
   "id": "19bf2cd1-d591-4859-ba1d-352471b0b26a",
   "metadata": {},
   "outputs": [
    {
     "name": "stdout",
     "output_type": "stream",
     "text": [
      "Модель сохранена в model2/model2-PRECIPITATION.keras\n"
     ]
    }
   ],
   "source": [
    "# Сохранение всей модели на диск\n",
    "model_save_path = 'model2/model2-PRECIPITATION.keras'\n",
    "model2.save(model_save_path)\n",
    "print(f\"Модель сохранена в {model_save_path}\")"
   ]
  },
  {
   "cell_type": "code",
   "execution_count": 8,
   "id": "d5a27f4a-7d08-47de-b720-690dfb96f133",
   "metadata": {},
   "outputs": [],
   "source": [
    "from keras.models import load_model\n",
    "model2 = load_model('model2/model2-PRECIPITATION.keras')"
   ]
  },
  {
   "cell_type": "code",
   "execution_count": 9,
   "id": "186fea76-ec27-4fd1-91fd-003d99b57853",
   "metadata": {},
   "outputs": [
    {
     "name": "stdout",
     "output_type": "stream",
     "text": [
      "\u001b[1m206/206\u001b[0m \u001b[32m━━━━━━━━━━━━━━━━━━━━\u001b[0m\u001b[37m\u001b[0m \u001b[1m2s\u001b[0m 5ms/step\n",
      "[[0.01640411]\n",
      " [0.01640411]\n",
      " [0.01640411]\n",
      " ...\n",
      " [0.01640411]\n",
      " [0.01640411]\n",
      " [0.01640411]]\n"
     ]
    }
   ],
   "source": [
    "# Прогнозирование на тестовых данных\n",
    "y_pred = model2.predict(X_test1)\n",
    "\n",
    "# Вывод предсказаний\n",
    "print(y_pred)"
   ]
  },
  {
   "cell_type": "code",
   "execution_count": 10,
   "id": "67a66ea7-b6cf-447d-ba8a-89a02940e940",
   "metadata": {},
   "outputs": [
    {
     "name": "stdout",
     "output_type": "stream",
     "text": [
      "\u001b[1m1/1\u001b[0m \u001b[32m━━━━━━━━━━━━━━━━━━━━\u001b[0m\u001b[37m\u001b[0m \u001b[1m0s\u001b[0m 30ms/step\n",
      "\u001b[1m1/1\u001b[0m \u001b[32m━━━━━━━━━━━━━━━━━━━━\u001b[0m\u001b[37m\u001b[0m \u001b[1m0s\u001b[0m 28ms/step\n",
      "\u001b[1m1/1\u001b[0m \u001b[32m━━━━━━━━━━━━━━━━━━━━\u001b[0m\u001b[37m\u001b[0m \u001b[1m0s\u001b[0m 28ms/step\n",
      "\u001b[1m1/1\u001b[0m \u001b[32m━━━━━━━━━━━━━━━━━━━━\u001b[0m\u001b[37m\u001b[0m \u001b[1m0s\u001b[0m 27ms/step\n",
      "\u001b[1m1/1\u001b[0m \u001b[32m━━━━━━━━━━━━━━━━━━━━\u001b[0m\u001b[37m\u001b[0m \u001b[1m0s\u001b[0m 27ms/step\n",
      "\u001b[1m1/1\u001b[0m \u001b[32m━━━━━━━━━━━━━━━━━━━━\u001b[0m\u001b[37m\u001b[0m \u001b[1m0s\u001b[0m 26ms/step\n",
      "\u001b[1m1/1\u001b[0m \u001b[32m━━━━━━━━━━━━━━━━━━━━\u001b[0m\u001b[37m\u001b[0m \u001b[1m0s\u001b[0m 29ms/step\n",
      "\u001b[1m1/1\u001b[0m \u001b[32m━━━━━━━━━━━━━━━━━━━━\u001b[0m\u001b[37m\u001b[0m \u001b[1m0s\u001b[0m 28ms/step\n",
      "\u001b[1m1/1\u001b[0m \u001b[32m━━━━━━━━━━━━━━━━━━━━\u001b[0m\u001b[37m\u001b[0m \u001b[1m0s\u001b[0m 28ms/step\n",
      "\u001b[1m1/1\u001b[0m \u001b[32m━━━━━━━━━━━━━━━━━━━━\u001b[0m\u001b[37m\u001b[0m \u001b[1m0s\u001b[0m 27ms/step\n",
      "\u001b[1m1/1\u001b[0m \u001b[32m━━━━━━━━━━━━━━━━━━━━\u001b[0m\u001b[37m\u001b[0m \u001b[1m0s\u001b[0m 28ms/step\n",
      "\u001b[1m1/1\u001b[0m \u001b[32m━━━━━━━━━━━━━━━━━━━━\u001b[0m\u001b[37m\u001b[0m \u001b[1m0s\u001b[0m 27ms/step\n",
      "\u001b[1m1/1\u001b[0m \u001b[32m━━━━━━━━━━━━━━━━━━━━\u001b[0m\u001b[37m\u001b[0m \u001b[1m0s\u001b[0m 27ms/step\n",
      "\u001b[1m1/1\u001b[0m \u001b[32m━━━━━━━━━━━━━━━━━━━━\u001b[0m\u001b[37m\u001b[0m \u001b[1m0s\u001b[0m 28ms/step\n",
      "\u001b[1m1/1\u001b[0m \u001b[32m━━━━━━━━━━━━━━━━━━━━\u001b[0m\u001b[37m\u001b[0m \u001b[1m0s\u001b[0m 28ms/step\n",
      "\u001b[1m1/1\u001b[0m \u001b[32m━━━━━━━━━━━━━━━━━━━━\u001b[0m\u001b[37m\u001b[0m \u001b[1m0s\u001b[0m 27ms/step\n",
      "\u001b[1m1/1\u001b[0m \u001b[32m━━━━━━━━━━━━━━━━━━━━\u001b[0m\u001b[37m\u001b[0m \u001b[1m0s\u001b[0m 27ms/step\n",
      "\u001b[1m1/1\u001b[0m \u001b[32m━━━━━━━━━━━━━━━━━━━━\u001b[0m\u001b[37m\u001b[0m \u001b[1m0s\u001b[0m 27ms/step\n",
      "\u001b[1m1/1\u001b[0m \u001b[32m━━━━━━━━━━━━━━━━━━━━\u001b[0m\u001b[37m\u001b[0m \u001b[1m0s\u001b[0m 26ms/step\n",
      "\u001b[1m1/1\u001b[0m \u001b[32m━━━━━━━━━━━━━━━━━━━━\u001b[0m\u001b[37m\u001b[0m \u001b[1m0s\u001b[0m 27ms/step\n",
      "\u001b[1m1/1\u001b[0m \u001b[32m━━━━━━━━━━━━━━━━━━━━\u001b[0m\u001b[37m\u001b[0m \u001b[1m0s\u001b[0m 28ms/step\n",
      "\u001b[1m1/1\u001b[0m \u001b[32m━━━━━━━━━━━━━━━━━━━━\u001b[0m\u001b[37m\u001b[0m \u001b[1m0s\u001b[0m 27ms/step\n",
      "\u001b[1m1/1\u001b[0m \u001b[32m━━━━━━━━━━━━━━━━━━━━\u001b[0m\u001b[37m\u001b[0m \u001b[1m0s\u001b[0m 27ms/step\n",
      "\u001b[1m1/1\u001b[0m \u001b[32m━━━━━━━━━━━━━━━━━━━━\u001b[0m\u001b[37m\u001b[0m \u001b[1m0s\u001b[0m 27ms/step\n",
      "2024-06-15 14:00:00: 0.01640411652624607\n",
      "2024-06-15 15:00:00: 0.02357020042836666\n",
      "2024-06-15 16:00:00: 0.031078936532139778\n",
      "2024-06-15 17:00:00: 0.038647234439849854\n",
      "2024-06-15 18:00:00: 0.04627731442451477\n",
      "2024-06-15 19:00:00: 0.054000869393348694\n",
      "2024-06-15 20:00:00: 0.06182049959897995\n",
      "2024-06-15 21:00:00: 0.06972953677177429\n",
      "2024-06-15 22:00:00: 0.07772102952003479\n",
      "2024-06-15 23:00:00: 0.08578751981258392\n",
      "2024-06-16 00:00:00: 0.09392106533050537\n",
      "2024-06-16 01:00:00: 0.10211323201656342\n",
      "2024-06-16 02:00:00: 0.11035515367984772\n",
      "2024-06-16 03:00:00: 0.11863753944635391\n",
      "2024-06-16 04:00:00: 0.1269506812095642\n",
      "2024-06-16 05:00:00: 0.13528457283973694\n",
      "2024-06-16 06:00:00: 0.14362883567810059\n",
      "2024-06-16 07:00:00: 0.15197283029556274\n",
      "2024-06-16 08:00:00: 0.16030573844909668\n",
      "2024-06-16 09:00:00: 0.16861653327941895\n",
      "2024-06-16 10:00:00: 0.176899716258049\n",
      "2024-06-16 11:00:00: 0.18518610298633575\n",
      "2024-06-16 12:00:00: 0.19346392154693604\n",
      "2024-06-16 13:00:00: 0.2017216682434082\n"
     ]
    }
   ],
   "source": [
    "# Прогнозирование на будущее\n",
    "def predict_future(model, last_known_data, last_known_dates, steps=3, window_size=24):\n",
    "    predictions = []\n",
    "    future_dates = pd.date_range(start=last_known_dates[-1], periods=steps + 1, freq='h')[1:]\n",
    "    \n",
    "    current_data = last_known_data.tolist()\n",
    "    \n",
    "    for _ in range(steps):\n",
    "        input_data = np.array(current_data[-window_size:]).reshape(1, window_size, 1)\n",
    "        prediction = model.predict(input_data)\n",
    "        predictions.append(prediction[0, 0])\n",
    "        current_data.append(prediction[0, 0])\n",
    "    \n",
    "    return future_dates, predictions\n",
    "\n",
    "# Последние известные данные и даты\n",
    "last_known_data = temp.values[-WINDOW_SIZE:]\n",
    "last_known_dates = temp.index[-WINDOW_SIZE:]\n",
    "\n",
    "# Прогнозирование на 3 шага вперед\n",
    "future_steps = 24\n",
    "future_dates, predictions = predict_future(model2, last_known_data, last_known_dates, future_steps, WINDOW_SIZE)\n",
    "\n",
    "# Вывод предсказаний с датами\n",
    "for date, pred in zip(future_dates, predictions):\n",
    "    print(f\"{date}: {pred}\")"
   ]
  },
  {
   "cell_type": "code",
   "execution_count": 11,
   "id": "bc6401d6-2b2d-4988-9d1c-e027ae264a7f",
   "metadata": {},
   "outputs": [
    {
     "name": "stdout",
     "output_type": "stream",
     "text": [
      "\u001b[1m206/206\u001b[0m \u001b[32m━━━━━━━━━━━━━━━━━━━━\u001b[0m\u001b[37m\u001b[0m \u001b[1m1s\u001b[0m 3ms/step\n"
     ]
    },
    {
     "data": {
      "image/png": "[encoded data removed]",
      "text/plain": [
       "<Figure size 1000x600 with 1 Axes>"
      ]
     },
     "metadata": {},
     "output_type": "display_data"
    }
   ],
   "source": [
    "# Предсказание на тестовом наборе данных\n",
    "y_pred1 = model2.predict(X_test1)\n",
    "\n",
    "# Построение графика предсказанных и реальных значений\n",
    "plt.figure(figsize=(10, 6))\n",
    "plt.plot(y_pred1[700:900], label='Предсказанные значения', color='blue')\n",
    "plt.plot(y_test1[700:900], label='Реальные значения', color='red')\n",
    "plt.title('Сравнение предсказанных и реальных значений')\n",
    "plt.xlabel('Индекс')\n",
    "plt.ylabel('Значение')\n",
    "plt.legend()\n",
    "plt.show()"
   ]
  },
  {
   "cell_type": "code",
   "execution_count": 12,
   "id": "a1196db2-af35-4ea4-a428-65d99033a820",
   "metadata": {},
   "outputs": [
    {
     "name": "stdout",
     "output_type": "stream",
     "text": [
      "Средняя абсолютная ошибка (MAE): 0.08254671389055804\n",
      "Средняя квадратичная ошибка (MSE): 0.11429935482637092\n",
      "Корень из среднеквадратичной ошибки (RMSE): 0.33808187592116046\n",
      "Коэффициент детерминации (R^2): 0.4135998065214106\n"
     ]
    }
   ],
   "source": [
    "# Оценка MAE\n",
    "mae = mean_absolute_error(y_test1, y_pred1)\n",
    "\n",
    "# Оценка MSE\n",
    "mse = mean_squared_error(y_test1, y_pred1)\n",
    "\n",
    "# Оценка RMSE\n",
    "rmse = np.sqrt(mse)\n",
    "\n",
    "# Оценка R^2\n",
    "r2 = r2_score(y_test1, y_pred1)\n",
    "\n",
    "print(\"Средняя абсолютная ошибка (MAE):\", mae)\n",
    "print(\"Средняя квадратичная ошибка (MSE):\", mse)\n",
    "print(\"Корень из среднеквадратичной ошибки (RMSE):\", rmse)\n",
    "print(\"Коэффициент детерминации (R^2):\", r2)"
   ]
  },
  {
   "cell_type": "code",
   "execution_count": null,
   "id": "1d0926a0-b09c-47f2-855a-d406162fe74c",
   "metadata": {},
   "outputs": [],
   "source": []
  }
 ],
 "metadata": {
  "kernelspec": {
   "display_name": "Python 3 (ipykernel)",
   "language": "python",
   "name": "python3"
  },
  "language_info": {
   "codemirror_mode": {
    "name": "ipython",
    "version": 3
   },
   "file_extension": ".py",
   "mimetype": "text/x-python",
   "name": "python",
   "nbconvert_exporter": "python",
   "pygments_lexer": "ipython3",
   "version": "3.10.11"
  }
 },
 "nbformat": 4,
 "nbformat_minor": 5
}
