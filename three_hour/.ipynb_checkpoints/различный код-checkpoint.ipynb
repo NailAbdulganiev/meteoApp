{
 "cells": [
  {
   "cell_type": "code",
   "execution_count": 1,
   "id": "ecb23dda-6cd4-4597-adbf-c13b6b718033",
   "metadata": {},
   "outputs": [],
   "source": [
    "# # Настройки обратного вызова и компиляции модели\n",
    "# cp2 = ModelCheckpoint('model2/model2-solar-radiation.keras', save_best_only=True)\n",
    "# model2.compile(loss=MeanSquaredError(), optimizer=Adam(learning_rate=0.0001), metrics=[RootMeanSquaredError()])\n",
    "\n",
    "# import os\n",
    "\n",
    "# checkpoint_filepath = 'model2/model2-solar-radiation.keras'\n",
    "# if os.path.exists(checkpoint_filepath):\n",
    "#     print(\"Файл существует.\")\n",
    "# else:\n",
    "#     print(\"Файл не найден.\")"
   ]
  },
  {
   "cell_type": "code",
   "execution_count": null,
   "id": "380a980b-79aa-427c-83fd-e1455452ef70",
   "metadata": {},
   "outputs": [],
   "source": [
    "# # Обучение модели\n",
    "# model.fit(X_train1, y_train1, validation_data=(X_val1, y_val1), epochs=50, callbacks=[cp2])\n",
    "# Настройки обратного вызова и компиляции модели\n",
    "model_save_path = 'model2/model2-sr.keras'\n",
    "cp2 = ModelCheckpoint(model_save_path, save_best_only=True)\n",
    "model.compile(loss=MeanSquaredError(), optimizer=Adam(learning_rate=0.0001), metrics=[RootMeanSquaredError()])\n",
    "# Сохранение всей модели на диск\n",
    "model_save_path = 'model2/model2-sr.keras'\n",
    "model.save(model_save_path)\n",
    "print(f\"Модель сохранена в {model_save_path}\")"
   ]
  }
 ],
 "metadata": {
  "kernelspec": {
   "display_name": "Python 3 (ipykernel)",
   "language": "python",
   "name": "python3"
  },
  "language_info": {
   "codemirror_mode": {
    "name": "ipython",
    "version": 3
   },
   "file_extension": ".py",
   "mimetype": "text/x-python",
   "name": "python",
   "nbconvert_exporter": "python",
   "pygments_lexer": "ipython3",
   "version": "3.10.11"
  }
 },
 "nbformat": 4,
 "nbformat_minor": 5
}
