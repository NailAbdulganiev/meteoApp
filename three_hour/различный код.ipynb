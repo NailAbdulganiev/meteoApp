{
 "cells": [
  {
   "cell_type": "code",
   "execution_count": 1,
   "id": "ecb23dda-6cd4-4597-adbf-c13b6b718033",
   "metadata": {},
   "outputs": [],
   "source": [
    "# # Настройки обратного вызова и компиляции модели\n",
    "# cp2 = ModelCheckpoint('model2/model2-solar-radiation.keras', save_best_only=True)\n",
    "# model2.compile(loss=MeanSquaredError(), optimizer=Adam(learning_rate=0.0001), metrics=[RootMeanSquaredError()])\n",
    "\n",
    "# import os\n",
    "\n",
    "# checkpoint_filepath = 'model2/model2-solar-radiation.keras'\n",
    "# if os.path.exists(checkpoint_filepath):\n",
    "#     print(\"Файл существует.\")\n",
    "# else:\n",
    "#     print(\"Файл не найден.\")"
   ]
  },
  {
   "cell_type": "code",
   "execution_count": 2,
   "id": "380a980b-79aa-427c-83fd-e1455452ef70",
   "metadata": {},
   "outputs": [
    {
     "ename": "NameError",
     "evalue": "name 'ModelCheckpoint' is not defined",
     "output_type": "error",
     "traceback": [
      "\u001B[1;31m---------------------------------------------------------------------------\u001B[0m",
      "\u001B[1;31mNameError\u001B[0m                                 Traceback (most recent call last)",
      "Cell \u001B[1;32mIn[2], line 5\u001B[0m\n\u001B[0;32m      1\u001B[0m \u001B[38;5;66;03m# # Обучение модели\u001B[39;00m\n\u001B[0;32m      2\u001B[0m \u001B[38;5;66;03m# model.fit(X_train1, y_train1, validation_data=(X_val1, y_val1), epochs=50, callbacks=[cp2])\u001B[39;00m\n\u001B[0;32m      3\u001B[0m \u001B[38;5;66;03m# Настройки обратного вызова и компиляции модели\u001B[39;00m\n\u001B[0;32m      4\u001B[0m model_save_path \u001B[38;5;241m=\u001B[39m \u001B[38;5;124m'\u001B[39m\u001B[38;5;124mmodel2/model2-sr.keras\u001B[39m\u001B[38;5;124m'\u001B[39m\n\u001B[1;32m----> 5\u001B[0m cp2 \u001B[38;5;241m=\u001B[39m \u001B[43mModelCheckpoint\u001B[49m(model_save_path, save_best_only\u001B[38;5;241m=\u001B[39m\u001B[38;5;28;01mTrue\u001B[39;00m)\n\u001B[0;32m      6\u001B[0m model\u001B[38;5;241m.\u001B[39mcompile(loss\u001B[38;5;241m=\u001B[39mMeanSquaredError(), optimizer\u001B[38;5;241m=\u001B[39mAdam(learning_rate\u001B[38;5;241m=\u001B[39m\u001B[38;5;241m0.0001\u001B[39m), metrics\u001B[38;5;241m=\u001B[39m[RootMeanSquaredError()])\n\u001B[0;32m      7\u001B[0m \u001B[38;5;66;03m# Сохранение всей модели на диск\u001B[39;00m\n",
      "\u001B[1;31mNameError\u001B[0m: name 'ModelCheckpoint' is not defined"
     ]
    }
   ],
   "source": [
    "# # Обучение модели\n",
    "# model.fit(X_train1, y_train1, validation_data=(X_val1, y_val1), epochs=50, callbacks=[cp2])\n",
    "# Настройки обратного вызова и компиляции модели\n",
    "model_save_path = 'model2/model2-sr.keras'\n",
    "cp2 = ModelCheckpoint(model_save_path, save_best_only=True)\n",
    "model.compile(loss=MeanSquaredError(), optimizer=Adam(learning_rate=0.0001), metrics=[RootMeanSquaredError()])\n",
    "# Сохранение всей модели на диск\n",
    "model_save_path = 'model2/model2-sr.keras'\n",
    "model.save(model_save_path)\n",
    "print(f\"Модель сохранена в {model_save_path}\")"
   ]
  },
  {
   "cell_type": "code",
   "execution_count": null,
   "id": "5c866cf5-14e6-4556-b83c-481de5707d47",
   "metadata": {},
   "outputs": [],
   "source": [
    "# Обучение модели\n",
    "model2.fit(X_train1, y_train1, validation_data=(X_val1, y_val1), epochs=50, callbacks=[cp2])"
   ]
  },
  {
   "cell_type": "code",
   "execution_count": null,
   "id": "77138204-2f06-4c97-967f-71f525b80f13",
   "metadata": {},
   "outputs": [],
   "source": [
    "from keras.models import load_model\n",
    "model2 = load_model('model2/model2-sr.keras')"
   ]
  }
 ],
 "metadata": {
  "kernelspec": {
   "display_name": "Python 3 (ipykernel)",
   "language": "python",
   "name": "python3"
  },
  "language_info": {
   "codemirror_mode": {
    "name": "ipython",
    "version": 3
   },
   "file_extension": ".py",
   "mimetype": "text/x-python",
   "name": "python",
   "nbconvert_exporter": "python",
   "pygments_lexer": "ipython3",
   "version": "3.10.11"
  }
 },
 "nbformat": 4,
 "nbformat_minor": 5
}
